{
 "cells": [
  {
   "cell_type": "code",
   "execution_count": 5,
   "metadata": {},
   "outputs": [],
   "source": [
    "from fastFlow.flowprintOptimal.sekigo.flowUtils.dataGetterV2 import getTrainTestOODBalanced, saveTrainTestOODFlows"
   ]
  },
  {
   "cell_type": "code",
   "execution_count": 6,
   "metadata": {},
   "outputs": [
    {
     "name": "stdout",
     "output_type": "stream",
     "text": [
      "1841\n",
      "1841\n",
      "{'GoogleMeet': 1204, 'Microsoft Teams': 637}\n",
      "keep_number = 800\n",
      "------------------------------\n",
      "train class distrubation\n",
      "GoogleMeet         663\n",
      "Microsoft Teams    511\n",
      "Name: count, dtype: int64\n",
      "test class distrubation\n",
      "GoogleMeet         168\n",
      "Microsoft Teams    126\n",
      "Name: count, dtype: int64\n"
     ]
    }
   ],
   "source": [
    "train_packet_flows,test_packet_flows,ood_packet_flows, train_timeslot_flows,test_timeslot_flows,ood_timeslot_flows = getTrainTestOODBalanced(dataset_name= \"dummy\", test_size= .2, ood_classes= [],max_flow_length_in_seconds= 240, packet_max_length= 100)"
   ]
  },
  {
   "cell_type": "code",
   "execution_count": 7,
   "metadata": {},
   "outputs": [
    {
     "data": {
      "text/plain": [
       "0"
      ]
     },
     "execution_count": 7,
     "metadata": {},
     "output_type": "execute_result"
    }
   ],
   "source": [
    "len(ood_packet_flows)"
   ]
  },
  {
   "cell_type": "code",
   "execution_count": 9,
   "metadata": {},
   "outputs": [],
   "source": [
    "saveTrainTestOODFlows(base_path= \"data/ClassificationOnlyFlows\", dataset_name= \"dummy\", \n",
    "                      train_packet_flows= train_packet_flows, test_packet_flows= test_packet_flows,\n",
    "                      train_timeslot_flows= train_timeslot_flows, test_timeslot_flows = test_timeslot_flows,\n",
    "                      ood_packet_flows= ood_packet_flows, ood_timeslot_flows = ood_timeslot_flows\n",
    "                      )"
   ]
  },
  {
   "cell_type": "code",
   "execution_count": null,
   "metadata": {},
   "outputs": [],
   "source": []
  }
 ],
 "metadata": {
  "kernelspec": {
   "display_name": "Python 3",
   "language": "python",
   "name": "python3"
  },
  "language_info": {
   "codemirror_mode": {
    "name": "ipython",
    "version": 3
   },
   "file_extension": ".py",
   "mimetype": "text/x-python",
   "name": "python",
   "nbconvert_exporter": "python",
   "pygments_lexer": "ipython3",
   "version": "3.11.10"
  }
 },
 "nbformat": 4,
 "nbformat_minor": 2
}
