{
 "cells": [
  {
   "cell_type": "code",
   "execution_count": 1,
   "metadata": {},
   "outputs": [],
   "source": [
    "from tqdm import tqdm\n",
    "from typing import List, Dict\n",
    "import datetime\n",
    "import numpy as np\n",
    "import pandas as pd\n",
    "import matplotlib.pyplot as plt\n",
    "from flowprintOptimal.sekigo.core.flowRepresentation import FlowRepresentation,PacketFlowRepressentation,TimeslotRepresentation\n",
    "from flowprintOptimal.sekigo.dataAnalysis.vNATDataFrameProcessor import VNATDataFrameProcessor\n",
    "from flowprintOptimal.sekigo.core.flowConfig import FlowConfig\n",
    "import random\n",
    "from flowprintOptimal.sekigo.flowUtils.flowDatasets import PacketFlowDataset, BaseFlowDataset, DDQNActivityDataset\n",
    "from torch.utils.data import Dataset,DataLoader\n",
    "from torchsampler import ImbalancedDatasetSampler\n",
    "from sklearn.model_selection import train_test_split\n",
    "from flowprintOptimal.sekigo.flowUtils.commons import normalizePacketRep\n",
    "import os\n",
    "from joblib import Parallel, delayed\n",
    "from flowprintOptimal.sekigo.flowUtils.commons import saveFlows,loadFlows\n",
    "from flowprintOptimal.sekigo.dataAnalysis.dataFrameProcessor import UTMobileNetProcessor\n",
    "from flowprintOptimal.sekigo.flowUtils.dataGetterV2 import readTrainTestOODFlows\n",
    "from sklearn.metrics import confusion_matrix\n",
    "import json\n",
    "from flowprintOptimal.sekigo.modeling.trainers import NNClassificationTrainer\n",
    "from flowprintOptimal.sekigo.modeling.neuralNetworks import LSTMNetwork,TransformerGenerator,CNNNetwork1D, LSTMDuelingNetwork\n",
    "from flowprintOptimal.sekigo.modeling.loggers import Logger\n",
    "import torch\n",
    "device = torch.device(\"cuda\" if torch.cuda.is_available() else \"cpu\")\n",
    "#device = torch.device(\"cpu\")\n",
    "from flowprintOptimal.sekigo.earlyClassification.DQL.core import MemoryElement,Rewarder,State\n",
    "from flowprintOptimal.sekigo.earlyClassification.DQL.memoryFiller import MemoryFiller\n",
    "from flowprintOptimal.sekigo.earlyClassification.DQL.datasets import MemoryDataset\n",
    "from flowprintOptimal.sekigo.earlyClassification.DQL.trainers import EarlyClassificationtrainer\n",
    "from flowprintOptimal.sekigo.utils.documentor import Documenter\n",
    "from flowprintOptimal.sekigo.utils.evaluations import Evaluator,EarlyEvaluation\n",
    "from flowprintOptimal.sekigo.flowUtils.utils import readTrainTestOODFlows\n",
    "import warnings\n",
    "from copy import deepcopy\n",
    "import torch.nn as nn\n",
    "\n",
    "from flowprintOptimal.sekigo.earlyClassification.DQL.core import Rewarder\n",
    "\n",
    "warnings.filterwarnings('ignore')"
   ]
  },
  {
   "cell_type": "code",
   "execution_count": 5,
   "metadata": {},
   "outputs": [],
   "source": [
    "configs = dict(\n",
    "    name = \"deployment_ood\",\n",
    "    description = \"deployment ood\",\n",
    "    \n",
    "    common_config = dict(\n",
    "        max_timesteps = 15,\n",
    "        min_timesteps = 8\n",
    "    ),\n",
    "    \n",
    "    full_model_kwargs = dict(\n",
    "        lstm_hidden_size = 256,\n",
    "        layers= 2, lstm_input_size = 3\n",
    "    ),\n",
    "\n",
    "    early_model_kwargs = dict(\n",
    "        lstm_input_size= 3,lstm_hidden_size= 256,layers = 2                    \n",
    "    ),\n",
    "    \n",
    "    data_config = dict(\n",
    "        dataset_name = \"deployment\",\n",
    "        subsampleConfig = None,#dict(max_gap = 20, min_gap = 5),                             \n",
    "        max_flow_length = 100, # in seconds  ( each flow sample cannot excede this length)\n",
    "        test_size = .2,\n",
    "        ood_classes = [\"hello\"],\n",
    "        do_balance = False,\n",
    "        data_type = \"packet_representation\"\n",
    "\n",
    "    ),\n",
    "\n",
    "    rewarder_config = dict(\n",
    "        l = .5\n",
    "    ),\n",
    "\n",
    "    dataset_config = dict(\n",
    "        aug = [0,.2]\n",
    "    ),\n",
    "\n",
    "    memory_fillter_config = dict(\n",
    "        ood_config = dict(ood_aug = [.6,.9], ood_prob = .2),\n",
    "        min_length = 1,\n",
    "        use_balancer = False\n",
    "    ),\n",
    "    full_trainer_config = dict(\n",
    "        use_sampler = False\n",
    "    ),\n",
    "    early_trainer_config = dict(\n",
    "        use_sampler = False  # this is for giving more weight to wait samples\n",
    "    )\n",
    "\n",
    ")"
   ]
  },
  {
   "cell_type": "code",
   "execution_count": 6,
   "metadata": {},
   "outputs": [
    {
     "data": {
      "text/plain": [
       "'\\n# code to read and save packet flow reps UTMobileNet2021\\nutc_mobile_processor = UTMobileNetProcessor(base_path= \"data/UTMobileNet2021\")\\nflows = utc_mobile_processor.processData()\\nsaveFlows(path  = \"data/UTMobileNet2021/mobilenetPacketRep.json\", flows = flows)\\n'"
      ]
     },
     "execution_count": 6,
     "metadata": {},
     "output_type": "execute_result"
    }
   ],
   "source": [
    "\"\"\"\n",
    "# code to read and save packet flow reps UTMobileNet2021\n",
    "utc_mobile_processor = UTMobileNetProcessor(base_path= \"data/UTMobileNet2021\")\n",
    "flows = utc_mobile_processor.processData()\n",
    "saveFlows(path  = \"data/UTMobileNet2021/mobilenetPacketRep.json\", flows = flows)\n",
    "\"\"\""
   ]
  },
  {
   "cell_type": "code",
   "execution_count": 7,
   "metadata": {},
   "outputs": [],
   "source": [
    "#train_flows, test_flows = loadFlows(\"Splits/Cls/UNIBS/train_flows.pkl\", PacketFlowRepressentation), loadFlows(\"Splits/Cls/UNIBS/test_flows.pkl\", PacketFlowRepressentation)\n",
    "#ood_flows = []"
   ]
  },
  {
   "cell_type": "code",
   "execution_count": 8,
   "metadata": {},
   "outputs": [],
   "source": [
    "#train_flows,test_flows,ood_flows = getTrainTestOOD(**configs[\"data_config\"], max_timesteps= configs[\"common_config\"][\"max_timesteps\"],\n",
    "#                                                   min_timesteps= configs[\"common_config\"][\"min_timesteps\"]\n",
    "#                                                   )"
   ]
  },
  {
   "cell_type": "code",
   "execution_count": 9,
   "metadata": {},
   "outputs": [],
   "source": [
    "if len(configs[\"data_config\"][\"ood_classes\"]) == 0:\n",
    "    base_dir_path = \"data/ClassificationOnlyFlows\"\n",
    "else:\n",
    "    base_dir_path = \"data/ClassificationOODFlows\""
   ]
  },
  {
   "cell_type": "code",
   "execution_count": 10,
   "metadata": {},
   "outputs": [
    {
     "name": "stdout",
     "output_type": "stream",
     "text": [
      "data/ClassificationOODFlows/deployment\n"
     ]
    }
   ],
   "source": [
    "train_packet_flows,test_packet_flows,ood_packet_flows, train_timeslot_flows,test_timeslot_flows,ood_timeslot_flows = readTrainTestOODFlows(base_path= base_dir_path, dataset_name= configs[\"data_config\"][\"dataset_name\"])"
   ]
  },
  {
   "cell_type": "code",
   "execution_count": 11,
   "metadata": {},
   "outputs": [
    {
     "data": {
      "text/plain": [
       "'\\ndef getTruncatePacketRep(flows : List[PacketFlowRepressentation], limit = 15):\\n    truncated_flows = []\\n    for flow in flows:\\n        if len(flow) <= limit:\\n            truncated_flows.append(flow)\\n        else:\\n            truncated_flows.append(flow.getSubFlow(0,limit))\\n    return truncated_flows\\n\\n\\n\\ntrain_packet_flows = getTruncatePacketRep(flows= train_packet_flows)\\ntest_packet_flows = getTruncatePacketRep(flows= test_packet_flows)\\nood_packet_flows = getTruncatePacketRep(flows= ood_packet_flows)\\n'"
      ]
     },
     "execution_count": 11,
     "metadata": {},
     "output_type": "execute_result"
    }
   ],
   "source": [
    "\"\"\"\n",
    "def getTruncatePacketRep(flows : List[PacketFlowRepressentation], limit = 15):\n",
    "    truncated_flows = []\n",
    "    for flow in flows:\n",
    "        if len(flow) <= limit:\n",
    "            truncated_flows.append(flow)\n",
    "        else:\n",
    "            truncated_flows.append(flow.getSubFlow(0,limit))\n",
    "    return truncated_flows\n",
    "\n",
    "\n",
    "\n",
    "train_packet_flows = getTruncatePacketRep(flows= train_packet_flows)\n",
    "test_packet_flows = getTruncatePacketRep(flows= test_packet_flows)\n",
    "ood_packet_flows = getTruncatePacketRep(flows= ood_packet_flows)\n",
    "\"\"\""
   ]
  },
  {
   "cell_type": "code",
   "execution_count": null,
   "metadata": {},
   "outputs": [],
   "source": []
  },
  {
   "cell_type": "code",
   "execution_count": 12,
   "metadata": {},
   "outputs": [],
   "source": [
    "if configs[\"data_config\"][\"data_type\"] == \"packet_representation\":\n",
    "    train_dataset = PacketFlowDataset(flows= train_packet_flows,label_to_index= None,aug= configs[\"dataset_config\"][\"aug\"], truncate_length= 20)\n",
    "    test_dataset = PacketFlowDataset(flows= test_packet_flows,label_to_index= train_dataset.label_to_index, truncate_length= 20)\n",
    "    ood_dataset = PacketFlowDataset(flows= ood_packet_flows, label_to_index= None, truncate_length= 20) if (ood_packet_flows != None and len(ood_packet_flows) != 0) else None\n",
    "    \n",
    "    train_fixed_length_dataset = PacketFlowDataset(flows= train_packet_flows, label_to_index= None, aug= configs[\"dataset_config\"][\"aug\"], fixed_length= 20)\n",
    "    test_fixed_length_dataset = PacketFlowDataset(flows= test_packet_flows, label_to_index= train_fixed_length_dataset.label_to_index, aug= None, fixed_length= 20)\n",
    "else:\n",
    "    train_dataset = DDQNActivityDataset(flows= train_timeslot_flows,label_to_index= None, aug= configs[\"dataset_config\"][\"aug\"])\n",
    "    test_dataset = DDQNActivityDataset(flows= test_timeslot_flows,label_to_index= train_dataset.label_to_index)\n",
    "    ood_dataset = DDQNActivityDataset(flows= ood_timeslot_flows, label_to_index= None) if (ood_timeslot_flows != None and len(ood_timeslot_flows) != 0) else None\n",
    "\n",
    "    \n",
    "    train_fixed_length_dataset = DDQNActivityDataset(flows= train_timeslot_flows, label_to_index= None, aug= configs[\"dataset_config\"][\"aug\"], fixed_length= 12)\n",
    "    test_fixed_length_dataset = DDQNActivityDataset(flows= test_timeslot_flows, label_to_index= train_fixed_length_dataset.label_to_index, aug= None, fixed_length= 12)\n",
    "\n",
    "    configs[\"early_model_kwargs\"][\"lstm_input_size\"] = 5\n",
    "    configs[\"full_model_kwargs\"][\"lstm_input_size\"] = 5\n"
   ]
  },
  {
   "cell_type": "code",
   "execution_count": 13,
   "metadata": {},
   "outputs": [
    {
     "data": {
      "text/plain": [
       "(14683, 14683, 3671, 3671)"
      ]
     },
     "execution_count": 13,
     "metadata": {},
     "output_type": "execute_result"
    }
   ],
   "source": [
    "len(train_fixed_length_dataset), len(train_dataset), len(test_fixed_length_dataset), len(test_dataset)"
   ]
  },
  {
   "cell_type": "code",
   "execution_count": 14,
   "metadata": {},
   "outputs": [
    {
     "data": {
      "text/plain": [
       "(14683, 3671, 953)"
      ]
     },
     "execution_count": 14,
     "metadata": {},
     "output_type": "execute_result"
    }
   ],
   "source": [
    "len(train_dataset), len(test_dataset), len(ood_dataset)"
   ]
  },
  {
   "cell_type": "code",
   "execution_count": 15,
   "metadata": {},
   "outputs": [],
   "source": [
    "num_labels = len(train_dataset.label_to_index)\n",
    "configs[\"full_model_kwargs\"][\"output_dim\"] = num_labels \n",
    "configs[\"early_model_kwargs\"][\"output_dim\"] = num_labels + 1\n",
    "configs[\"rewarder_config\"][\"num_labels\"] = num_labels\n",
    "configs[\"rewarder_config\"][\"max_length\"] = configs[\"common_config\"][\"max_timesteps\"]"
   ]
  },
  {
   "cell_type": "code",
   "execution_count": null,
   "metadata": {},
   "outputs": [],
   "source": []
  },
  {
   "cell_type": "code",
   "execution_count": 47,
   "metadata": {},
   "outputs": [
    {
     "name": "stdout",
     "output_type": "stream",
     "text": [
      "classification ---- 1 metric test_f1 = 0.02909000497265042\n",
      "classification ---- 1 metric test_accuracy = 0.09561427403977119\n",
      "classification ---- 1 metric train_accuracy = 0.0962337396989716\n",
      "classification ---- 1 metric train_f1 = 0.029261928429423458\n",
      "classification ---- 10 metric train_loss = 1.7767736673355103\n",
      "classification ---- 20 metric train_loss = 1.6800177216529846\n",
      "classification ---- 30 metric train_loss = 1.6355953216552734\n",
      "classification ---- 40 metric train_loss = 1.619344663619995\n",
      "classification ---- 50 metric train_loss = 1.5584908604621888\n",
      "classification ---- 60 metric train_loss = 1.5518067240715028\n",
      "classification ---- 70 metric train_loss = 1.5921908259391784\n",
      "classification ---- 80 metric train_loss = 1.5603059649467468\n",
      "classification ---- 90 metric train_loss = 1.496107029914856\n",
      "classification ---- 100 metric train_loss = 1.4431887149810791\n",
      "classification ---- 110 metric train_loss = 1.3940611600875854\n",
      "classification ---- 120 metric train_loss = 1.3391949653625488\n",
      "classification ---- 130 metric train_loss = 1.3514113426208496\n",
      "classification ---- 140 metric train_loss = 1.3511201977729796\n",
      "classification ---- 150 metric train_loss = 1.3322347283363343\n",
      "classification ---- 160 metric train_loss = 1.2647637367248534\n",
      "classification ---- 170 metric train_loss = 1.2682427644729615\n",
      "classification ---- 180 metric train_loss = 1.2809803485870361\n",
      "classification ---- 190 metric train_loss = 1.2844417810440063\n",
      "classification ---- 200 metric train_loss = 1.2883201360702514\n",
      "classification ---- 210 metric train_loss = 1.2218849301338195\n",
      "classification ---- 220 metric train_loss = 1.205878448486328\n",
      "classification ---- 230 metric train_loss = 1.225169575214386\n"
     ]
    },
    {
     "ename": "KeyboardInterrupt",
     "evalue": "",
     "output_type": "error",
     "traceback": [
      "\u001b[0;31m---------------------------------------------------------------------------\u001b[0m",
      "\u001b[0;31mKeyboardInterrupt\u001b[0m                         Traceback (most recent call last)",
      "Cell \u001b[0;32mIn[47], line 6\u001b[0m\n\u001b[1;32m      4\u001b[0m logger\u001b[38;5;241m.\u001b[39mdefault_step_size \u001b[38;5;241m=\u001b[39m \u001b[38;5;241m500\u001b[39m\n\u001b[1;32m      5\u001b[0m classification_trainer \u001b[38;5;241m=\u001b[39m NNClassificationTrainer(classifier \u001b[38;5;241m=\u001b[39m classifier_,device\u001b[38;5;241m=\u001b[39m device,logger\u001b[38;5;241m=\u001b[39m logger)\n\u001b[0;32m----> 6\u001b[0m \u001b[43mclassification_trainer\u001b[49m\u001b[38;5;241;43m.\u001b[39;49m\u001b[43mtrain\u001b[49m\u001b[43m(\u001b[49m\u001b[43mtrain_dataset\u001b[49m\u001b[38;5;241;43m=\u001b[39;49m\u001b[43m \u001b[49m\u001b[43mtrain_fixed_length_dataset\u001b[49m\u001b[43m,\u001b[49m\u001b[43mtest_dataset\u001b[49m\u001b[38;5;241;43m=\u001b[39;49m\u001b[43m \u001b[49m\u001b[43mtest_fixed_length_dataset\u001b[49m\u001b[43m,\u001b[49m\u001b[43mepochs\u001b[49m\u001b[38;5;241;43m=\u001b[39;49m\u001b[38;5;241;43m500\u001b[39;49m\u001b[43m,\u001b[49m\u001b[43mbatch_size\u001b[49m\u001b[38;5;241;43m=\u001b[39;49m\u001b[43m \u001b[49m\u001b[38;5;241;43m64\u001b[39;49m\u001b[43m,\u001b[49m\u001b[43mlr\u001b[49m\u001b[38;5;241;43m=\u001b[39;49m\u001b[43m \u001b[49m\u001b[38;5;241;43m.0003\u001b[39;49m\u001b[43m,\u001b[49m\u001b[43muse_balanced_sampler\u001b[49m\u001b[38;5;241;43m=\u001b[39;49m\u001b[43m \u001b[49m\u001b[43mconfigs\u001b[49m\u001b[43m[\u001b[49m\u001b[38;5;124;43m\"\u001b[39;49m\u001b[38;5;124;43mfull_trainer_config\u001b[39;49m\u001b[38;5;124;43m\"\u001b[39;49m\u001b[43m]\u001b[49m\u001b[43m[\u001b[49m\u001b[38;5;124;43m\"\u001b[39;49m\u001b[38;5;124;43muse_sampler\u001b[39;49m\u001b[38;5;124;43m\"\u001b[39;49m\u001b[43m]\u001b[49m\u001b[43m)\u001b[49m\n",
      "File \u001b[0;32m~/Desktop/UNSW/flowprintOptimal/sekigo/modeling/trainers.py:57\u001b[0m, in \u001b[0;36mNNClassificationTrainer.train\u001b[0;34m(self, train_dataset, test_dataset, epochs, batch_size, lr, use_balanced_sampler)\u001b[0m\n\u001b[1;32m     55\u001b[0m \u001b[38;5;28;01mfor\u001b[39;00m epoch \u001b[38;5;129;01min\u001b[39;00m \u001b[38;5;28mrange\u001b[39m(epochs):\n\u001b[1;32m     56\u001b[0m     \u001b[38;5;28;01mfor\u001b[39;00m batch \u001b[38;5;129;01min\u001b[39;00m train_dataloader:\n\u001b[0;32m---> 57\u001b[0m         \u001b[38;5;28;43mself\u001b[39;49m\u001b[38;5;241;43m.\u001b[39;49m\u001b[43mtrainStep\u001b[49m\u001b[43m(\u001b[49m\u001b[43mbatch\u001b[49m\u001b[38;5;241;43m=\u001b[39;49m\u001b[43m \u001b[49m\u001b[43mbatch\u001b[49m\u001b[43m,\u001b[49m\n\u001b[1;32m     58\u001b[0m \u001b[43m                       \u001b[49m\u001b[43mclassifier_optimizer\u001b[49m\u001b[38;5;241;43m=\u001b[39;49m\u001b[43m \u001b[49m\u001b[43mclassifier_optimizer\u001b[49m\u001b[43m)\u001b[49m\n\u001b[1;32m     60\u001b[0m         \u001b[38;5;28;01mif\u001b[39;00m step\u001b[38;5;241m%\u001b[39m\u001b[38;5;241m500\u001b[39m \u001b[38;5;241m==\u001b[39m \u001b[38;5;241m0\u001b[39m:\n\u001b[1;32m     61\u001b[0m             metrices \u001b[38;5;241m=\u001b[39m \u001b[38;5;28mself\u001b[39m\u001b[38;5;241m.\u001b[39mevaluator\u001b[38;5;241m.\u001b[39mgetMetrices(dataset\u001b[38;5;241m=\u001b[39m test_dataset)\n",
      "File \u001b[0;32m~/Desktop/UNSW/flowprintOptimal/sekigo/modeling/trainers.py:37\u001b[0m, in \u001b[0;36mNNClassificationTrainer.trainStep\u001b[0;34m(self, batch, classifier_optimizer)\u001b[0m\n\u001b[1;32m     35\u001b[0m classifier_optimizer\u001b[38;5;241m.\u001b[39mzero_grad()\n\u001b[1;32m     36\u001b[0m loss \u001b[38;5;241m=\u001b[39m \u001b[38;5;28mself\u001b[39m\u001b[38;5;241m.\u001b[39mcross_entropy_loss(model_out,y)\u001b[38;5;241m.\u001b[39mmean()\n\u001b[0;32m---> 37\u001b[0m \u001b[43mloss\u001b[49m\u001b[38;5;241;43m.\u001b[39;49m\u001b[43mbackward\u001b[49m\u001b[43m(\u001b[49m\u001b[43m)\u001b[49m\n\u001b[1;32m     38\u001b[0m classifier_optimizer\u001b[38;5;241m.\u001b[39mstep()\n\u001b[1;32m     39\u001b[0m \u001b[38;5;28mself\u001b[39m\u001b[38;5;241m.\u001b[39mlogger\u001b[38;5;241m.\u001b[39maddMetric(metric_name\u001b[38;5;241m=\u001b[39m \u001b[38;5;124m\"\u001b[39m\u001b[38;5;124mtrain_loss\u001b[39m\u001b[38;5;124m\"\u001b[39m, value\u001b[38;5;241m=\u001b[39m loss\u001b[38;5;241m.\u001b[39mcpu()\u001b[38;5;241m.\u001b[39mitem())\n",
      "File \u001b[0;32m~/.local/lib/python3.10/site-packages/torch/_tensor.py:525\u001b[0m, in \u001b[0;36mTensor.backward\u001b[0;34m(self, gradient, retain_graph, create_graph, inputs)\u001b[0m\n\u001b[1;32m    515\u001b[0m \u001b[38;5;28;01mif\u001b[39;00m has_torch_function_unary(\u001b[38;5;28mself\u001b[39m):\n\u001b[1;32m    516\u001b[0m     \u001b[38;5;28;01mreturn\u001b[39;00m handle_torch_function(\n\u001b[1;32m    517\u001b[0m         Tensor\u001b[38;5;241m.\u001b[39mbackward,\n\u001b[1;32m    518\u001b[0m         (\u001b[38;5;28mself\u001b[39m,),\n\u001b[0;32m   (...)\u001b[0m\n\u001b[1;32m    523\u001b[0m         inputs\u001b[38;5;241m=\u001b[39minputs,\n\u001b[1;32m    524\u001b[0m     )\n\u001b[0;32m--> 525\u001b[0m \u001b[43mtorch\u001b[49m\u001b[38;5;241;43m.\u001b[39;49m\u001b[43mautograd\u001b[49m\u001b[38;5;241;43m.\u001b[39;49m\u001b[43mbackward\u001b[49m\u001b[43m(\u001b[49m\n\u001b[1;32m    526\u001b[0m \u001b[43m    \u001b[49m\u001b[38;5;28;43mself\u001b[39;49m\u001b[43m,\u001b[49m\u001b[43m \u001b[49m\u001b[43mgradient\u001b[49m\u001b[43m,\u001b[49m\u001b[43m \u001b[49m\u001b[43mretain_graph\u001b[49m\u001b[43m,\u001b[49m\u001b[43m \u001b[49m\u001b[43mcreate_graph\u001b[49m\u001b[43m,\u001b[49m\u001b[43m \u001b[49m\u001b[43minputs\u001b[49m\u001b[38;5;241;43m=\u001b[39;49m\u001b[43minputs\u001b[49m\n\u001b[1;32m    527\u001b[0m \u001b[43m\u001b[49m\u001b[43m)\u001b[49m\n",
      "File \u001b[0;32m~/.local/lib/python3.10/site-packages/torch/autograd/__init__.py:267\u001b[0m, in \u001b[0;36mbackward\u001b[0;34m(tensors, grad_tensors, retain_graph, create_graph, grad_variables, inputs)\u001b[0m\n\u001b[1;32m    262\u001b[0m     retain_graph \u001b[38;5;241m=\u001b[39m create_graph\n\u001b[1;32m    264\u001b[0m \u001b[38;5;66;03m# The reason we repeat the same comment below is that\u001b[39;00m\n\u001b[1;32m    265\u001b[0m \u001b[38;5;66;03m# some Python versions print out the first line of a multi-line function\u001b[39;00m\n\u001b[1;32m    266\u001b[0m \u001b[38;5;66;03m# calls in the traceback and some print out the last line\u001b[39;00m\n\u001b[0;32m--> 267\u001b[0m \u001b[43m_engine_run_backward\u001b[49m\u001b[43m(\u001b[49m\n\u001b[1;32m    268\u001b[0m \u001b[43m    \u001b[49m\u001b[43mtensors\u001b[49m\u001b[43m,\u001b[49m\n\u001b[1;32m    269\u001b[0m \u001b[43m    \u001b[49m\u001b[43mgrad_tensors_\u001b[49m\u001b[43m,\u001b[49m\n\u001b[1;32m    270\u001b[0m \u001b[43m    \u001b[49m\u001b[43mretain_graph\u001b[49m\u001b[43m,\u001b[49m\n\u001b[1;32m    271\u001b[0m \u001b[43m    \u001b[49m\u001b[43mcreate_graph\u001b[49m\u001b[43m,\u001b[49m\n\u001b[1;32m    272\u001b[0m \u001b[43m    \u001b[49m\u001b[43minputs\u001b[49m\u001b[43m,\u001b[49m\n\u001b[1;32m    273\u001b[0m \u001b[43m    \u001b[49m\u001b[43mallow_unreachable\u001b[49m\u001b[38;5;241;43m=\u001b[39;49m\u001b[38;5;28;43;01mTrue\u001b[39;49;00m\u001b[43m,\u001b[49m\n\u001b[1;32m    274\u001b[0m \u001b[43m    \u001b[49m\u001b[43maccumulate_grad\u001b[49m\u001b[38;5;241;43m=\u001b[39;49m\u001b[38;5;28;43;01mTrue\u001b[39;49;00m\u001b[43m,\u001b[49m\n\u001b[1;32m    275\u001b[0m \u001b[43m\u001b[49m\u001b[43m)\u001b[49m\n",
      "File \u001b[0;32m~/.local/lib/python3.10/site-packages/torch/autograd/graph.py:744\u001b[0m, in \u001b[0;36m_engine_run_backward\u001b[0;34m(t_outputs, *args, **kwargs)\u001b[0m\n\u001b[1;32m    742\u001b[0m     unregister_hooks \u001b[38;5;241m=\u001b[39m _register_logging_hooks_on_whole_graph(t_outputs)\n\u001b[1;32m    743\u001b[0m \u001b[38;5;28;01mtry\u001b[39;00m:\n\u001b[0;32m--> 744\u001b[0m     \u001b[38;5;28;01mreturn\u001b[39;00m \u001b[43mVariable\u001b[49m\u001b[38;5;241;43m.\u001b[39;49m\u001b[43m_execution_engine\u001b[49m\u001b[38;5;241;43m.\u001b[39;49m\u001b[43mrun_backward\u001b[49m\u001b[43m(\u001b[49m\u001b[43m  \u001b[49m\u001b[38;5;66;43;03m# Calls into the C++ engine to run the backward pass\u001b[39;49;00m\n\u001b[1;32m    745\u001b[0m \u001b[43m        \u001b[49m\u001b[43mt_outputs\u001b[49m\u001b[43m,\u001b[49m\u001b[43m \u001b[49m\u001b[38;5;241;43m*\u001b[39;49m\u001b[43margs\u001b[49m\u001b[43m,\u001b[49m\u001b[43m \u001b[49m\u001b[38;5;241;43m*\u001b[39;49m\u001b[38;5;241;43m*\u001b[39;49m\u001b[43mkwargs\u001b[49m\n\u001b[1;32m    746\u001b[0m \u001b[43m    \u001b[49m\u001b[43m)\u001b[49m  \u001b[38;5;66;03m# Calls into the C++ engine to run the backward pass\u001b[39;00m\n\u001b[1;32m    747\u001b[0m \u001b[38;5;28;01mfinally\u001b[39;00m:\n\u001b[1;32m    748\u001b[0m     \u001b[38;5;28;01mif\u001b[39;00m attach_logging_hooks:\n",
      "\u001b[0;31mKeyboardInterrupt\u001b[0m: "
     ]
    }
   ],
   "source": [
    "#classifier_ = CNNNetwork1D( **configs[\"full_model_kwargs\"])#LSTMNetwork(lstm_hidden_size= 64,lstm_input_size=6,output_dim = len(all_train_dataset.label_to_index))\n",
    "classifier_ = LSTMNetwork(**configs[\"full_model_kwargs\"])\n",
    "logger= Logger(name= \"classification\",verbose= True)\n",
    "logger.default_step_size = 500\n",
    "classification_trainer = NNClassificationTrainer(classifier = classifier_,device= device,logger= logger)\n",
    "classification_trainer.train(train_dataset= train_fixed_length_dataset,test_dataset= test_fixed_length_dataset,epochs=500,batch_size= 64,lr= .0003,use_balanced_sampler= configs[\"full_trainer_config\"][\"use_sampler\"])"
   ]
  },
  {
   "cell_type": "code",
   "execution_count": 48,
   "metadata": {},
   "outputs": [
    {
     "data": {
      "text/plain": [
       "{'micro_f1': 0.09561427403977119,\n",
       " 'macro_f1': 0.02909000497265042,\n",
       " 'accuracy': 0.09561427403977119,\n",
       " 'cm': array([[   0,  884,    0,    0,    0,    0],\n",
       "        [   0,  351,    0,    0,    0,    0],\n",
       "        [   0,  592,    0,    0,    0,    0],\n",
       "        [   0, 1109,    0,    0,    0,    0],\n",
       "        [   0,  698,    0,    0,    0,    0],\n",
       "        [   0,   37,    0,    0,    0,    0]]),\n",
       " 'per_class_f1': array([0.        , 0.17454003, 0.        , 0.        , 0.        ,\n",
       "        0.        ])}"
      ]
     },
     "execution_count": 48,
     "metadata": {},
     "output_type": "execute_result"
    }
   ],
   "source": [
    "classification_trainer.best[\"score\"]\n",
    "Evaluator(model= classification_trainer.best[\"model\"], device=device).getMetrices(dataset= test_fixed_length_dataset)"
   ]
  },
  {
   "cell_type": "code",
   "execution_count": 49,
   "metadata": {},
   "outputs": [
    {
     "data": {
      "text/plain": [
       "device(type='cuda')"
      ]
     },
     "execution_count": 49,
     "metadata": {},
     "output_type": "execute_result"
    }
   ],
   "source": [
    "device"
   ]
  },
  {
   "cell_type": "code",
   "execution_count": 50,
   "metadata": {},
   "outputs": [
    {
     "data": {
      "text/plain": [
       "{'micro_f1': 0.09561427403977119,\n",
       " 'macro_f1': 0.02909000497265042,\n",
       " 'accuracy': 0.09561427403977119,\n",
       " 'cm': array([[   0,  884,    0,    0,    0,    0],\n",
       "        [   0,  351,    0,    0,    0,    0],\n",
       "        [   0,  592,    0,    0,    0,    0],\n",
       "        [   0, 1109,    0,    0,    0,    0],\n",
       "        [   0,  698,    0,    0,    0,    0],\n",
       "        [   0,   37,    0,    0,    0,    0]]),\n",
       " 'per_class_f1': array([0.        , 0.17454003, 0.        , 0.        , 0.        ,\n",
       "        0.        ])}"
      ]
     },
     "execution_count": 50,
     "metadata": {},
     "output_type": "execute_result"
    }
   ],
   "source": [
    "from flowprintOptimal.sekigo.flowUtils.packetDropping import getPacketDroppedPacketDataset\n",
    "dropped_test_dataset = getPacketDroppedPacketDataset(packet_dataset= test_dataset, max_drop_rate= .3)\n",
    "test_dropped_fixed_length_dataset = PacketFlowDataset(flows= dropped_test_dataset.flows, label_to_index= train_fixed_length_dataset.label_to_index, aug= None, fixed_length= 20)\n",
    "Evaluator(model= classification_trainer.best[\"model\"], device=torch.device(\"cpu\")).getMetrices(dataset= test_dropped_fixed_length_dataset)"
   ]
  },
  {
   "cell_type": "code",
   "execution_count": 52,
   "metadata": {},
   "outputs": [],
   "source": [
    "rewarder = Rewarder(**configs[\"rewarder_config\"])\n",
    "memory_filler = MemoryFiller(dataset= train_dataset,rewarder= rewarder, min_length= configs[\"memory_fillter_config\"][\"min_length\"],\n",
    "                              max_length= rewarder.max_length,ood_config= configs[\"memory_fillter_config\"][\"ood_config\"], use_balancer= configs[\"memory_fillter_config\"][\"use_balancer\"]\n",
    "                              )"
   ]
  },
  {
   "cell_type": "code",
   "execution_count": 53,
   "metadata": {},
   "outputs": [
    {
     "name": "stdout",
     "output_type": "stream",
     "text": [
      "4111240\n"
     ]
    }
   ],
   "source": [
    "memory = memory_filler.processDataset()\n",
    "print(len(memory))"
   ]
  },
  {
   "cell_type": "code",
   "execution_count": 54,
   "metadata": {},
   "outputs": [],
   "source": [
    "memory_dataset = MemoryDataset(memories= memory,num_classes= len(train_dataset.label_to_index),\n",
    "                               min_length= memory_filler.min_length,max_length= memory_filler.max_length)\n",
    "predictor = LSTMDuelingNetwork(**configs[\"early_model_kwargs\"])\n",
    "logger = Logger(verbose= True)\n",
    "logger.default_step_size = 1000"
   ]
  },
  {
   "cell_type": "code",
   "execution_count": 55,
   "metadata": {},
   "outputs": [
    {
     "name": "stdout",
     "output_type": "stream",
     "text": [
      " 3    1079680\n",
      " 0     898520\n",
      " 4     723520\n",
      " 2     602420\n",
      "-1     416640\n",
      " 1     355880\n",
      " 5      34580\n",
      "Name: count, dtype: int64\n"
     ]
    }
   ],
   "source": [
    "labels = []\n",
    "\n",
    "for m in memory_dataset:\n",
    "    labels.append(m[\"label\"])\n",
    "\n",
    "print(pd.Series(labels).value_counts())"
   ]
  },
  {
   "cell_type": "code",
   "execution_count": 56,
   "metadata": {},
   "outputs": [],
   "source": [
    "ddq_model = EarlyClassificationtrainer(predictor= predictor,train_dataset = train_dataset,test_dataset= test_dataset,memory_dataset= memory_dataset,\n",
    "                                       ood_dataset= ood_dataset,use_sampler= configs[\"early_trainer_config\"][\"use_sampler\"],\n",
    "                                       logger= logger,device=device,model_replacement_steps= 500)"
   ]
  },
  {
   "cell_type": "code",
   "execution_count": 57,
   "metadata": {},
   "outputs": [
    {
     "name": "stdout",
     "output_type": "stream",
     "text": [
      " ---- 1000 metric q_loss = 0.4230676413029432\n",
      " ---- 1 metric test_eval_f1 = 0.11933806146572104\n",
      " ---- 1 metric test_eval_time = 10.413746630727763\n",
      " ---- 1 metric incorrect_ood_test = 0.5957504767093436\n",
      " ---- 1 metric ood_eval = 0.7660020986358866\n",
      " ---- 1 metric ood_eval_time = 17.948583420776494\n",
      " ---- 2000 metric q_loss = 0.4011082411408424\n",
      " ---- 2 metric test_eval_f1 = 0.3182225643800843\n",
      " ---- 2 metric test_eval_time = 11.59400676655389\n",
      " ---- 2 metric incorrect_ood_test = 0.4363933533097249\n",
      " ---- 2 metric ood_eval = 0.8132214060860441\n",
      " ---- 2 metric ood_eval_time = 18.60335781741868\n",
      " ---- 1 metric train_eval_f1 = 0.3138078817140036\n",
      " ---- 1 metric train_eval_time = 11.791070762342992\n",
      " ---- 1 metric incorrect_ood_train = 0.452359871960771\n",
      " ---- 3000 metric q_loss = 0.39179618211090567\n",
      " ---- 3 metric test_eval_f1 = 0.27239399332604336\n",
      " ---- 3 metric test_eval_time = 10.156391953277092\n",
      " ---- 3 metric incorrect_ood_test = 0.16044674475619722\n",
      " ---- 3 metric ood_eval = 0.8887722980062959\n",
      " ---- 3 metric ood_eval_time = 18.568730325288563\n",
      " ---- 4000 metric q_loss = 0.3898071325570345\n",
      " ---- 4 metric test_eval_f1 = 0.3691637588374908\n",
      " ---- 4 metric test_eval_time = 11.251442144553783\n",
      " ---- 4 metric incorrect_ood_test = 0.1972214655407246\n",
      " ---- 4 metric ood_eval = 0.9160545645330536\n",
      " ---- 4 metric ood_eval_time = 18.96642182581322\n",
      " ---- 2 metric train_eval_f1 = 0.3621963808915471\n",
      " ---- 2 metric train_eval_time = 11.681709996338338\n",
      " ---- 2 metric incorrect_ood_train = 0.25601035210787987\n",
      " ---- 5000 metric q_loss = 0.3813604421764612\n",
      " ---- 5 metric test_eval_f1 = 0.3379115147197482\n",
      " ---- 5 metric test_eval_time = 8.362722573233773\n",
      " ---- 5 metric incorrect_ood_test = 0.051484609098338324\n",
      " ---- 5 metric ood_eval = 0.6180482686253935\n",
      " ---- 5 metric ood_eval_time = 17.961175236096537\n",
      " ---- 6000 metric q_loss = 0.3768091031908989\n",
      " ---- 6 metric test_eval_f1 = 0.42296613323040494\n",
      " ---- 6 metric test_eval_time = 8.92174168873198\n",
      " ---- 6 metric incorrect_ood_test = 0.07409425224734405\n",
      " ---- 6 metric ood_eval = 0.602308499475341\n",
      " ---- 6 metric ood_eval_time = 16.77124868835257\n",
      " ---- 3 metric train_eval_f1 = 0.41209555626595745\n",
      " ---- 3 metric train_eval_time = 9.603566098499725\n",
      " ---- 3 metric incorrect_ood_train = 0.1329428590887421\n",
      " ---- 7000 metric q_loss = 0.37117361164093016\n",
      " ---- 7 metric test_eval_f1 = 0.5287885953189247\n",
      " ---- 7 metric test_eval_time = 10.308513794126371\n",
      " ---- 7 metric incorrect_ood_test = 0.08172160174339417\n",
      " ---- 7 metric ood_eval = 0.5561385099685204\n",
      " ---- 7 metric ood_eval_time = 16.401888772298005\n",
      " ---- 8000 metric q_loss = 0.3618268387839198\n",
      " ---- 8 metric test_eval_f1 = 0.4346794308163657\n",
      " ---- 8 metric test_eval_time = 5.761707988980716\n",
      " ---- 8 metric incorrect_ood_test = 0.011168618904930537\n",
      " ---- 8 metric ood_eval = 0.3955928646379853\n",
      " ---- 8 metric ood_eval_time = 12.345225603357818\n",
      " ---- 4 metric train_eval_f1 = 0.40514486931205185\n",
      " ---- 4 metric train_eval_time = 6.127664020058504\n",
      " ---- 4 metric incorrect_ood_train = 0.022134441190492408\n",
      " ---- 9000 metric q_loss = 0.3544873572587967\n",
      " ---- 9 metric test_eval_f1 = 0.17411410552069717\n",
      " ---- 9 metric test_eval_time = 1.6005449591280654\n",
      " ---- 9 metric incorrect_ood_test = 0.00027240533914464724\n",
      " ---- 9 metric ood_eval = 0.5435466946484785\n",
      " ---- 9 metric ood_eval_time = 14.63588667366212\n",
      " ---- 10000 metric q_loss = 0.3493828981369734\n",
      " ---- 10 metric test_eval_f1 = 0.5538968269629193\n",
      " ---- 10 metric test_eval_time = 7.459323455409561\n",
      " ---- 10 metric incorrect_ood_test = 0.02560610187959684\n",
      " ---- 10 metric ood_eval = 0.6547743966421826\n",
      " ---- 10 metric ood_eval_time = 15.670514165792236\n",
      " ---- 5 metric train_eval_f1 = 0.5192538115237073\n",
      " ---- 5 metric train_eval_time = 7.681789227829287\n",
      " ---- 5 metric incorrect_ood_train = 0.037730708983177826\n",
      " ---- 11000 metric q_loss = 0.3440217912644148\n",
      " ---- 11 metric test_eval_f1 = 0.5634262883429374\n",
      " ---- 11 metric test_eval_time = 7.941866964784796\n",
      " ---- 11 metric incorrect_ood_test = 0.025333696540452193\n",
      " ---- 11 metric ood_eval = 0.8614900314795383\n",
      " ---- 11 metric ood_eval_time = 19.390346274921303\n",
      " ---- 12000 metric q_loss = 0.33989008927345277\n",
      " ---- 12 metric test_eval_f1 = 0.7074197452849597\n",
      " ---- 12 metric test_eval_time = 9.595514950166113\n",
      " ---- 12 metric incorrect_ood_test = 0.01607191500953419\n",
      " ---- 12 metric ood_eval = 0.6484784889821616\n",
      " ---- 12 metric ood_eval_time = 17.166841552990554\n",
      " ---- 6 metric train_eval_f1 = 0.675941727631339\n",
      " ---- 6 metric train_eval_time = 10.015212559044178\n",
      " ---- 6 metric incorrect_ood_train = 0.01954641422052714\n",
      " ---- 13000 metric q_loss = 0.33938811720907686\n",
      " ---- 13 metric test_eval_f1 = 0.6103553564887716\n",
      " ---- 13 metric test_eval_time = 10.051239669421488\n",
      " ---- 13 metric incorrect_ood_test = 0.011168618904930537\n",
      " ---- 13 metric ood_eval = 0.7649527806925498\n",
      " ---- 13 metric ood_eval_time = 18.099685204617\n",
      " ---- 14000 metric q_loss = 0.3333446057587862\n",
      " ---- 14 metric test_eval_f1 = 0.7064873871682438\n",
      " ---- 14 metric test_eval_time = 7.528657205240175\n",
      " ---- 14 metric incorrect_ood_test = 0.0019068373740125306\n",
      " ---- 14 metric ood_eval = 0.5162644281217209\n",
      " ---- 14 metric ood_eval_time = 14.793284365162645\n",
      " ---- 7 metric train_eval_f1 = 0.6350231806000598\n",
      " ---- 7 metric train_eval_time = 7.983401920438958\n",
      " ---- 7 metric incorrect_ood_train = 0.007014915208063747\n",
      " ---- 15000 metric q_loss = 0.32726572661101816\n",
      " ---- 15 metric test_eval_f1 = 0.6936218749383195\n",
      " ---- 15 metric test_eval_time = 7.425362914270063\n",
      " ---- 15 metric incorrect_ood_test = 0.005448106782892944\n",
      " ---- 15 metric ood_eval = 0.5571878279118573\n",
      " ---- 15 metric ood_eval_time = 15.207764952780693\n",
      " ---- 16000 metric q_loss = 0.3262932778298855\n",
      " ---- 16 metric test_eval_f1 = 0.7532442944906731\n",
      " ---- 16 metric test_eval_time = 11.217660292463442\n",
      " ---- 16 metric incorrect_ood_test = 0.03132661400163443\n",
      " ---- 16 metric ood_eval = 0.6421825813221406\n",
      " ---- 16 metric ood_eval_time = 16.836306400839455\n",
      " ---- 8 metric train_eval_f1 = 0.7341863203294468\n",
      " ---- 8 metric train_eval_time = 11.861132882080513\n",
      " ---- 8 metric incorrect_ood_train = 0.04413267043519717\n",
      " ---- 17000 metric q_loss = 0.32472150568664077\n",
      " ---- 17 metric test_eval_f1 = 0.7562711400779069\n",
      " ---- 17 metric test_eval_time = 8.689478186484175\n",
      " ---- 17 metric incorrect_ood_test = 0.04467447561972215\n",
      " ---- 17 metric ood_eval = 0.5152151101783841\n",
      " ---- 17 metric ood_eval_time = 14.5099685204617\n",
      " ---- 18000 metric q_loss = 0.3224737549573183\n",
      " ---- 18 metric test_eval_f1 = 0.7411435419245215\n",
      " ---- 18 metric test_eval_time = 8.398396461155654\n",
      " ---- 18 metric incorrect_ood_test = 0.01470988831381095\n",
      " ---- 18 metric ood_eval = 0.6537250786988458\n",
      " ---- 18 metric ood_eval_time = 17.22560335781742\n",
      " ---- 9 metric train_eval_f1 = 0.7062016200260356\n",
      " ---- 9 metric train_eval_time = 8.834895507880303\n",
      " ---- 9 metric incorrect_ood_train = 0.01906967241027038\n",
      " ---- 19000 metric q_loss = 0.31367226760089395\n",
      " ---- 19 metric test_eval_f1 = 0.7364818493081587\n",
      " ---- 19 metric test_eval_time = 9.244205765969474\n",
      " ---- 19 metric incorrect_ood_test = 0.036229910106238085\n",
      " ---- 19 metric ood_eval = 0.5802728226652676\n",
      " ---- 19 metric ood_eval_time = 15.573976915005247\n",
      " ---- 20000 metric q_loss = 0.3112520347237587\n",
      " ---- 20 metric test_eval_f1 = 0.7670527170069726\n",
      " ---- 20 metric test_eval_time = 8.48874862788145\n",
      " ---- 20 metric incorrect_ood_test = 0.007354944156905475\n",
      " ---- 20 metric ood_eval = 0.6558237145855194\n",
      " ---- 20 metric ood_eval_time = 17.325288562434416\n",
      " ---- 10 metric train_eval_f1 = 0.7406780619036429\n",
      " ---- 10 metric train_eval_time = 9.105755346214673\n",
      " ---- 10 metric incorrect_ood_train = 0.00953483620513519\n",
      " ---- 21000 metric q_loss = 0.3117382545620203\n",
      " ---- 21 metric test_eval_f1 = 0.7904051716706143\n",
      " ---- 21 metric test_eval_time = 10.054452637549632\n",
      " ---- 21 metric incorrect_ood_test = 0.03949877417597385\n",
      " ---- 21 metric ood_eval = 0.6044071353620147\n",
      " ---- 21 metric ood_eval_time = 16.83840503672613\n",
      " ---- 22000 metric q_loss = 0.31326759948581456\n",
      " ---- 22 metric test_eval_f1 = 0.7861363516578089\n",
      " ---- 22 metric test_eval_time = 8.508287292817679\n",
      " ---- 22 metric incorrect_ood_test = 0.01389267229637701\n",
      " ---- 22 metric ood_eval = 0.7397691500524659\n",
      " ---- 22 metric ood_eval_time = 18.094438614900316\n",
      " ---- 11 metric train_eval_f1 = 0.7553263411626928\n",
      " ---- 11 metric train_eval_time = 9.434183033848726\n",
      " ---- 11 metric incorrect_ood_train = 0.022134441190492408\n",
      " ---- 23000 metric q_loss = 0.30299730886518955\n",
      " ---- 23 metric test_eval_f1 = 0.7947056818785524\n",
      " ---- 23 metric test_eval_time = 8.321163875926434\n",
      " ---- 23 metric incorrect_ood_test = 0.007627349496050122\n",
      " ---- 23 metric ood_eval = 0.6285414480587618\n",
      " ---- 23 metric ood_eval_time = 16.843651626442814\n",
      " ---- 24000 metric q_loss = 0.30397458546608686\n",
      " ---- 24 metric test_eval_f1 = 0.7717439281442969\n",
      " ---- 24 metric test_eval_time = 7.5817879878217544\n",
      " ---- 24 metric incorrect_ood_test = 0.01579950967038954\n",
      " ---- 24 metric ood_eval = 0.6232948583420777\n",
      " ---- 24 metric ood_eval_time = 17.269674711437567\n",
      " ---- 12 metric train_eval_f1 = 0.7399925377766596\n",
      " ---- 12 metric train_eval_time = 7.991406791406791\n",
      " ---- 12 metric incorrect_ood_train = 0.017230811142137165\n",
      " ---- 25000 metric q_loss = 0.30091390892863273\n",
      " ---- 25 metric test_eval_f1 = 0.8260881097276283\n",
      " ---- 25 metric test_eval_time = 9.556993392070485\n",
      " ---- 25 metric incorrect_ood_test = 0.010623808226641242\n",
      " ---- 25 metric ood_eval = 0.5949632738719832\n",
      " ---- 25 metric ood_eval_time = 16.625393494228753\n",
      " ---- 26000 metric q_loss = 0.29936589927226304\n",
      " ---- 26 metric test_eval_f1 = 0.8185045943567602\n",
      " ---- 26 metric test_eval_time = 8.199667682082525\n",
      " ---- 26 metric incorrect_ood_test = 0.016344320348678835\n",
      " ---- 26 metric ood_eval = 0.5802728226652676\n",
      " ---- 26 metric ood_eval_time = 16.48058761804827\n",
      " ---- 13 metric train_eval_f1 = 0.7777473930353129\n",
      " ---- 13 metric train_eval_time = 8.939800960400863\n",
      " ---- 13 metric incorrect_ood_train = 0.021385275488660354\n",
      " ---- 27000 metric q_loss = 0.29966733511537313\n",
      " ---- 27 metric test_eval_f1 = 0.7930990417400302\n",
      " ---- 27 metric test_eval_time = 7.359255202628697\n",
      " ---- 27 metric incorrect_ood_test = 0.005175701443748297\n",
      " ---- 27 metric ood_eval = 0.5802728226652676\n",
      " ---- 27 metric ood_eval_time = 16.090241343126966\n",
      " ---- 28000 metric q_loss = 0.29690085420757534\n",
      " ---- 28 metric test_eval_f1 = 0.8130334928992694\n",
      " ---- 28 metric test_eval_time = 8.441544015551235\n",
      " ---- 28 metric incorrect_ood_test = 0.019068373740125308\n",
      " ---- 28 metric ood_eval = 0.6747114375655824\n",
      " ---- 28 metric ood_eval_time = 17.561385099685204\n",
      " ---- 14 metric train_eval_f1 = 0.7686547347399376\n",
      " ---- 14 metric train_eval_time = 8.889205929431414\n",
      " ---- 14 metric incorrect_ood_train = 0.021385275488660354\n",
      " ---- 29000 metric q_loss = 0.292209325671196\n",
      " ---- 29 metric test_eval_f1 = 0.8130079203044004\n",
      " ---- 29 metric test_eval_time = 8.097674418604651\n",
      " ---- 29 metric incorrect_ood_test = 0.004358485426314356\n",
      " ---- 29 metric ood_eval = 0.6453305351521511\n",
      " ---- 29 metric ood_eval_time = 17.40083945435467\n",
      " ---- 30000 metric q_loss = 0.2968639343008399\n",
      " ---- 30 metric test_eval_f1 = 0.8158107679770771\n",
      " ---- 30 metric test_eval_time = 6.983269336258914\n",
      " ---- 30 metric incorrect_ood_test = 0.006810133478616181\n",
      " ---- 30 metric ood_eval = 0.6128016789087093\n",
      " ---- 30 metric ood_eval_time = 15.926547743966422\n",
      " ---- 15 metric train_eval_f1 = 0.78035239422925\n",
      " ---- 15 metric train_eval_time = 7.714108398841539\n",
      " ---- 15 metric incorrect_ood_train = 0.012327181093781924\n",
      " ---- 31000 metric q_loss = 0.2879039111733437\n",
      " ---- 31 metric test_eval_f1 = 0.8373524004132283\n",
      " ---- 31 metric test_eval_time = 8.227571115973742\n",
      " ---- 31 metric incorrect_ood_test = 0.004086080087169709\n",
      " ---- 31 metric ood_eval = 0.6138509968520461\n",
      " ---- 31 metric ood_eval_time = 16.402938090241342\n",
      " ---- 32000 metric q_loss = 0.28965093990415336\n",
      " ---- 32 metric test_eval_f1 = 0.8291077510289256\n",
      " ---- 32 metric test_eval_time = 7.780093227310118\n",
      " ---- 32 metric incorrect_ood_test = 0.006537728139471534\n",
      " ---- 32 metric ood_eval = 0.6306400839454355\n",
      " ---- 32 metric ood_eval_time = 16.901364113326338\n",
      " ---- 16 metric train_eval_f1 = 0.7999969327133011\n",
      " ---- 16 metric train_eval_time = 8.401591548329561\n",
      " ---- 16 metric incorrect_ood_train = 0.007219233126745215\n",
      " ---- 33000 metric q_loss = 0.2811001780182123\n",
      " ---- 33 metric test_eval_f1 = 0.8301868463626549\n",
      " ---- 33 metric test_eval_time = 8.463903376338182\n",
      " ---- 33 metric incorrect_ood_test = 0.007627349496050122\n",
      " ---- 33 metric ood_eval = 0.5865687303252886\n",
      " ---- 33 metric ood_eval_time = 15.759706190975866\n",
      " ---- 34000 metric q_loss = 0.28046013247966767\n",
      " ---- 34 metric test_eval_f1 = 0.8492981122947257\n",
      " ---- 34 metric test_eval_time = 8.873002754820936\n",
      " ---- 34 metric incorrect_ood_test = 0.011168618904930537\n",
      " ---- 34 metric ood_eval = 0.6348373557187827\n",
      " ---- 34 metric ood_eval_time = 17.685204616998952\n",
      " ---- 17 metric train_eval_f1 = 0.8175665841049812\n",
      " ---- 17 metric train_eval_time = 9.708039784500622\n",
      " ---- 17 metric incorrect_ood_train = 0.013961724443233672\n",
      " ---- 35000 metric q_loss = 0.2785879505425692\n",
      " ---- 35 metric test_eval_f1 = 0.8442857596857554\n",
      " ---- 35 metric test_eval_time = 9.083769633507853\n",
      " ---- 35 metric incorrect_ood_test = 0.011441024244075185\n",
      " ---- 35 metric ood_eval = 0.6715634837355718\n",
      " ---- 35 metric ood_eval_time = 18.25498426023085\n",
      " ---- 36000 metric q_loss = 0.2802083732634783\n",
      " ---- 36 metric test_eval_f1 = 0.8450064373499958\n",
      " ---- 36 metric test_eval_time = 8.076838032061913\n",
      " ---- 36 metric incorrect_ood_test = 0.014437482974666304\n",
      " ---- 36 metric ood_eval = 0.6159496327387198\n",
      " ---- 36 metric ood_eval_time = 17.266526757607554\n",
      " ---- 18 metric train_eval_f1 = 0.8353077953096292\n",
      " ---- 18 metric train_eval_time = 9.184875122087345\n",
      " ---- 18 metric incorrect_ood_train = 0.023768984539944152\n",
      " ---- 37000 metric q_loss = 0.2730218037813902\n",
      " ---- 37 metric test_eval_f1 = 0.8612631951624193\n",
      " ---- 37 metric test_eval_time = 8.592257001647447\n",
      " ---- 37 metric incorrect_ood_test = 0.00789975483519477\n",
      " ---- 37 metric ood_eval = 0.70199370409234\n",
      " ---- 37 metric ood_eval_time = 18.86463798530955\n",
      " ---- 38000 metric q_loss = 0.27376345924288037\n",
      " ---- 38 metric test_eval_f1 = 0.8680309695668277\n",
      " ---- 38 metric test_eval_time = 9.394462719298245\n",
      " ---- 38 metric incorrect_ood_test = 0.006265322800326887\n",
      " ---- 38 metric ood_eval = 0.6495278069254984\n",
      " ---- 38 metric ood_eval_time = 17.089192025183632\n",
      " ---- 19 metric train_eval_f1 = 0.8472251984614009\n",
      " ---- 19 metric train_eval_time = 10.169686073848707\n",
      " ---- 19 metric incorrect_ood_train = 0.015051420009534836\n",
      " ---- 39000 metric q_loss = 0.27209391195327043\n",
      " ---- 39 metric test_eval_f1 = 0.8836827524931504\n",
      " ---- 39 metric test_eval_time = 8.381908166070938\n",
      " ---- 39 metric incorrect_ood_test = 0.009261781530918006\n",
      " ---- 39 metric ood_eval = 0.6663168940188877\n",
      " ---- 39 metric ood_eval_time = 18.018887722980065\n",
      " ---- 40000 metric q_loss = 0.27086229258030653\n",
      " ---- 40 metric test_eval_f1 = 0.8906008749933244\n",
      " ---- 40 metric test_eval_time = 9.529395604395605\n",
      " ---- 40 metric incorrect_ood_test = 0.008444565513484064\n",
      " ---- 40 metric ood_eval = 0.6558237145855194\n",
      " ---- 40 metric ood_eval_time = 17.935991605456454\n",
      " ---- 20 metric train_eval_f1 = 0.8481482291405554\n",
      " ---- 20 metric train_eval_time = 10.354369266845989\n",
      " ---- 20 metric incorrect_ood_train = 0.012531499012463393\n",
      " ---- 41000 metric q_loss = 0.267603542432189\n",
      " ---- 41 metric test_eval_f1 = 0.891595742123069\n",
      " ---- 41 metric test_eval_time = 8.500824175824176\n",
      " ---- 41 metric incorrect_ood_test = 0.008444565513484064\n",
      " ---- 41 metric ood_eval = 0.6327387198321092\n",
      " ---- 41 metric ood_eval_time = 16.281217208814272\n",
      " ---- 42000 metric q_loss = 0.2630095768868923\n",
      " ---- 42 metric test_eval_f1 = 0.889066737925961\n",
      " ---- 42 metric test_eval_time = 9.944923504867871\n",
      " ---- 42 metric incorrect_ood_test = 0.02070280577499319\n",
      " ---- 42 metric ood_eval = 0.6946484784889821\n",
      " ---- 42 metric ood_eval_time = 18.237145855194125\n",
      " ---- 21 metric train_eval_f1 = 0.8538120056549982\n",
      " ---- 21 metric train_eval_time = 10.674636465324385\n",
      " ---- 21 metric incorrect_ood_train = 0.025812163726758836\n",
      " ---- 43000 metric q_loss = 0.26663630071282385\n",
      " ---- 43 metric test_eval_f1 = 0.8725068928217703\n",
      " ---- 43 metric test_eval_time = 8.589673166712442\n",
      " ---- 43 metric incorrect_ood_test = 0.008172160174339417\n",
      " ---- 43 metric ood_eval = 0.6621196222455404\n",
      " ---- 43 metric ood_eval_time = 17.660020986358866\n",
      " ---- 44000 metric q_loss = 0.26678246206045153\n",
      " ---- 44 metric test_eval_f1 = 0.8734813567596876\n",
      " ---- 44 metric test_eval_time = 7.9537953795379535\n",
      " ---- 44 metric incorrect_ood_test = 0.009534186870062654\n",
      " ---- 44 metric ood_eval = 0.6243441762854145\n",
      " ---- 44 metric ood_eval_time = 16.836306400839455\n",
      " ---- 22 metric train_eval_f1 = 0.8517599311441678\n",
      " ---- 22 metric train_eval_time = 8.854082905864411\n",
      " ---- 22 metric incorrect_ood_train = 0.017503235033712455\n",
      " ---- 45000 metric q_loss = 0.26226370488107204\n",
      " ---- 45 metric test_eval_f1 = 0.8765244753383703\n",
      " ---- 45 metric test_eval_time = 8.266283524904214\n",
      " ---- 45 metric incorrect_ood_test = 0.004630890765459003\n",
      " ---- 45 metric ood_eval = 0.6390346274921301\n",
      " ---- 45 metric ood_eval_time = 17.017838405036727\n",
      " ---- 46000 metric q_loss = 0.26077472080290315\n",
      " ---- 46 metric test_eval_f1 = 0.9085147107207204\n",
      " ---- 46 metric test_eval_time = 8.16376691521679\n",
      " ---- 46 metric incorrect_ood_test = 0.013620266957232362\n",
      " ---- 46 metric ood_eval = 0.6736621196222455\n",
      " ---- 46 metric ood_eval_time = 18.065057712486883\n",
      " ---- 23 metric train_eval_f1 = 0.8592356680018532\n",
      " ---- 23 metric train_eval_time = 9.0561376726112\n",
      " ---- 23 metric incorrect_ood_train = 0.0185248246271198\n",
      " ---- 47000 metric q_loss = 0.2562949795871973\n",
      " ---- 47 metric test_eval_f1 = 0.8901839673388605\n",
      " ---- 47 metric test_eval_time = 7.033039647577093\n",
      " ---- 47 metric incorrect_ood_test = 0.010623808226641242\n",
      " ---- 47 metric ood_eval = 0.6316894018887723\n",
      " ---- 47 metric ood_eval_time = 15.897166841552991\n",
      " ---- 48000 metric q_loss = 0.2592704142704606\n",
      " ---- 48 metric test_eval_f1 = 0.8882157430980682\n",
      " ---- 48 metric test_eval_time = 7.3446761800219535\n",
      " ---- 48 metric incorrect_ood_test = 0.007354944156905475\n",
      " ---- 48 metric ood_eval = 0.6547743966421826\n",
      " ---- 48 metric ood_eval_time = 16.515215110178385\n",
      " ---- 24 metric train_eval_f1 = 0.8493687555893573\n",
      " ---- 24 metric train_eval_time = 8.178406347016212\n",
      " ---- 24 metric incorrect_ood_train = 0.012803922904038685\n",
      " ---- 49000 metric q_loss = 0.2537037785127759\n",
      " ---- 49 metric test_eval_f1 = 0.8894261763986978\n",
      " ---- 49 metric test_eval_time = 8.033581062482797\n",
      " ---- 49 metric incorrect_ood_test = 0.010351402887496594\n",
      " ---- 49 metric ood_eval = 0.6526757607555089\n",
      " ---- 49 metric ood_eval_time = 17.683105981112277\n",
      " ---- 50000 metric q_loss = 0.25283253675699235\n",
      " ---- 50 metric test_eval_f1 = 0.8936272507249026\n",
      " ---- 50 metric test_eval_time = 7.086504243087873\n",
      " ---- 50 metric incorrect_ood_test = 0.00490329610460365\n",
      " ---- 50 metric ood_eval = 0.6883525708289612\n",
      " ---- 50 metric ood_eval_time = 17.223504721930745\n",
      " ---- 25 metric train_eval_f1 = 0.856075687515891\n",
      " ---- 25 metric train_eval_time = 8.119332234130255\n",
      " ---- 25 metric incorrect_ood_train = 0.008649458557515494\n",
      " ---- 51000 metric q_loss = 0.24984464801847936\n",
      " ---- 51 metric test_eval_f1 = 0.8851801780691764\n",
      " ---- 51 metric test_eval_time = 8.12912087912088\n",
      " ---- 51 metric incorrect_ood_test = 0.008444565513484064\n",
      " ---- 51 metric ood_eval = 0.6295907660020986\n",
      " ---- 51 metric ood_eval_time = 16.25183630640084\n",
      " ---- 52000 metric q_loss = 0.24770913380384446\n",
      " ---- 52 metric test_eval_f1 = 0.8922449891565529\n",
      " ---- 52 metric test_eval_time = 7.646897309170785\n",
      " ---- 52 metric incorrect_ood_test = 0.00789975483519477\n",
      " ---- 52 metric ood_eval = 0.6652675760755509\n",
      " ---- 52 metric ood_eval_time = 16.848898216159498\n",
      " ---- 26 metric train_eval_f1 = 0.859017654770175\n",
      " ---- 26 metric train_eval_time = 8.617651117858129\n",
      " ---- 26 metric incorrect_ood_train = 0.013008240822720153\n",
      " ---- 53000 metric q_loss = 0.24481006640940906\n",
      " ---- 53 metric test_eval_f1 = 0.8905543867034348\n",
      " ---- 53 metric test_eval_time = 8.1866703539823\n",
      " ---- 53 metric incorrect_ood_test = 0.014982293652955598\n",
      " ---- 53 metric ood_eval = 0.6736621196222455\n",
      " ---- 53 metric ood_eval_time = 17.144805876180484\n",
      " ---- 54000 metric q_loss = 0.2449208983182907\n",
      " ---- 54 metric test_eval_f1 = 0.8840198754327463\n",
      " ---- 54 metric test_eval_time = 8.071075740944018\n",
      " ---- 54 metric incorrect_ood_test = 0.007354944156905475\n",
      " ---- 54 metric ood_eval = 0.6484784889821616\n",
      " ---- 54 metric ood_eval_time = 17.75760755508919\n",
      " ---- 27 metric train_eval_f1 = 0.86484461644632\n",
      " ---- 27 metric train_eval_time = 9.148294235693031\n",
      " ---- 27 metric incorrect_ood_train = 0.015800585711366888\n",
      " ---- 55000 metric q_loss = 0.24110232150554656\n",
      " ---- 55 metric test_eval_f1 = 0.8952177727146573\n",
      " ---- 55 metric test_eval_time = 7.919632925472747\n",
      " ---- 55 metric incorrect_ood_test = 0.020430400435848543\n",
      " ---- 55 metric ood_eval = 0.6610703043022036\n",
      " ---- 55 metric ood_eval_time = 17.743966421825814\n",
      " ---- 56000 metric q_loss = 0.23634936440736054\n",
      " ---- 56 metric test_eval_f1 = 0.8902783387876773\n",
      " ---- 56 metric test_eval_time = 7.498624105668685\n",
      " ---- 56 metric incorrect_ood_test = 0.010078997548351948\n",
      " ---- 56 metric ood_eval = 0.6159496327387198\n",
      " ---- 56 metric ood_eval_time = 16.27177334732424\n",
      " ---- 28 metric train_eval_f1 = 0.8682451583801992\n",
      " ---- 28 metric train_eval_time = 8.659824452277283\n",
      " ---- 28 metric incorrect_ood_train = 0.014574678199278077\n",
      " ---- 57000 metric q_loss = 0.23712348581478\n",
      " ---- 57 metric test_eval_f1 = 0.8886361543128656\n",
      " ---- 57 metric test_eval_time = 6.813120176405733\n",
      " ---- 57 metric incorrect_ood_test = 0.011713429583219831\n",
      " ---- 57 metric ood_eval = 0.6390346274921301\n",
      " ---- 57 metric ood_eval_time = 15.855194123819517\n",
      " ---- 58000 metric q_loss = 0.2339411176815629\n",
      " ---- 58 metric test_eval_f1 = 0.8879359366403735\n",
      " ---- 58 metric test_eval_time = 7.951515151515151\n",
      " ---- 58 metric incorrect_ood_test = 0.011168618904930537\n",
      " ---- 58 metric ood_eval = 0.621196222455404\n",
      " ---- 58 metric ood_eval_time = 16.742917103882476\n",
      " ---- 29 metric train_eval_f1 = 0.8698996931133758\n",
      " ---- 29 metric train_eval_time = 9.160345423143351\n",
      " ---- 29 metric incorrect_ood_train = 0.01416604236191514\n",
      " ---- 59000 metric q_loss = 0.2335888645723462\n",
      " ---- 59 metric test_eval_f1 = 0.8997248895624942\n",
      " ---- 59 metric test_eval_time = 8.331953642384105\n",
      " ---- 59 metric incorrect_ood_test = 0.01280305093979842\n",
      " ---- 59 metric ood_eval = 0.6726128016789087\n",
      " ---- 59 metric ood_eval_time = 16.69779643231899\n",
      " ---- 60000 metric q_loss = 0.23278925985842944\n",
      " ---- 60 metric test_eval_f1 = 0.8870087547711184\n",
      " ---- 60 metric test_eval_time = 7.938512215207247\n",
      " ---- 60 metric incorrect_ood_test = 0.007627349496050122\n",
      " ---- 60 metric ood_eval = 0.6264428121720882\n",
      " ---- 60 metric ood_eval_time = 16.801678908709338\n",
      " ---- 30 metric train_eval_f1 = 0.8723765397219729\n",
      " ---- 30 metric train_eval_time = 8.927019383320687\n",
      " ---- 30 metric incorrect_ood_train = 0.012667710958251038\n",
      " ---- 61000 metric q_loss = 0.22972124936431645\n",
      " ---- 61 metric test_eval_f1 = 0.902806403552124\n",
      " ---- 61 metric test_eval_time = 7.588072887907233\n",
      " ---- 61 metric incorrect_ood_test = 0.013347861618087714\n",
      " ---- 61 metric ood_eval = 0.7334732423924449\n",
      " ---- 61 metric ood_eval_time = 18.61594963273872\n",
      " ---- 62000 metric q_loss = 0.2280033216252923\n",
      " ---- 62 metric test_eval_f1 = 0.8918872362299736\n",
      " ---- 62 metric test_eval_time = 7.108862144420131\n",
      " ---- 62 metric incorrect_ood_test = 0.004086080087169709\n",
      " ---- 62 metric ood_eval = 0.6778593913955928\n",
      " ---- 62 metric ood_eval_time = 17.217208814270723\n",
      " ---- 31 metric train_eval_f1 = 0.8674820246487128\n",
      " ---- 31 metric train_eval_time = 8.205070074196207\n",
      " ---- 31 metric incorrect_ood_train = 0.008649458557515494\n",
      " ---- 63000 metric q_loss = 0.22991719216108322\n",
      " ---- 63 metric test_eval_f1 = 0.8960329035229124\n",
      " ---- 63 metric test_eval_time = 7.069684499314129\n",
      " ---- 63 metric incorrect_ood_test = 0.007082538817760828\n",
      " ---- 63 metric ood_eval = 0.6663168940188877\n",
      " ---- 63 metric ood_eval_time = 17.488982161594965\n",
      " ---- 64000 metric q_loss = 0.22303080325573682\n",
      " ---- 64 metric test_eval_f1 = 0.8998058017423448\n",
      " ---- 64 metric test_eval_time = 7.868744872846595\n",
      " ---- 64 metric incorrect_ood_test = 0.003813674748025061\n",
      " ---- 64 metric ood_eval = 0.6222455403987408\n",
      " ---- 64 metric ood_eval_time = 15.955928646379853\n",
      " ---- 32 metric train_eval_f1 = 0.8671422696245547\n",
      " ---- 32 metric train_eval_time = 8.998760415949315\n",
      " ---- 32 metric incorrect_ood_train = 0.011033167608799292\n"
     ]
    },
    {
     "ename": "KeyboardInterrupt",
     "evalue": "",
     "output_type": "error",
     "traceback": [
      "\u001b[0;31m---------------------------------------------------------------------------\u001b[0m",
      "\u001b[0;31mKeyboardInterrupt\u001b[0m                         Traceback (most recent call last)",
      "Cell \u001b[0;32mIn[57], line 1\u001b[0m\n\u001b[0;32m----> 1\u001b[0m \u001b[43mddq_model\u001b[49m\u001b[38;5;241;43m.\u001b[39;49m\u001b[43mtrain\u001b[49m\u001b[43m(\u001b[49m\u001b[43mepochs\u001b[49m\u001b[38;5;241;43m=\u001b[39;49m\u001b[43m \u001b[49m\u001b[38;5;241;43m20\u001b[39;49m\u001b[43m,\u001b[49m\u001b[43mbatch_size\u001b[49m\u001b[38;5;241;43m=\u001b[39;49m\u001b[43m \u001b[49m\u001b[38;5;241;43m128\u001b[39;49m\u001b[43m,\u001b[49m\u001b[43mlr\u001b[49m\u001b[38;5;241;43m=\u001b[39;49m\u001b[43m \u001b[49m\u001b[38;5;241;43m.0003\u001b[39;49m\u001b[43m,\u001b[49m\u001b[43mlam\u001b[49m\u001b[38;5;241;43m=\u001b[39;49m\u001b[43m \u001b[49m\u001b[38;5;241;43m.99\u001b[39;49m\u001b[43m)\u001b[49m  \n",
      "File \u001b[0;32m~/Desktop/UNSW/flowprintOptimal/sekigo/earlyClassification/DQL/trainers.py:185\u001b[0m, in \u001b[0;36mEarlyClassificationtrainer.train\u001b[0;34m(self, epochs, batch_size, lr, lam)\u001b[0m\n\u001b[1;32m    183\u001b[0m \u001b[38;5;28;01mfor\u001b[39;00m epoch \u001b[38;5;129;01min\u001b[39;00m \u001b[38;5;28mrange\u001b[39m(epochs):\n\u001b[1;32m    184\u001b[0m     \u001b[38;5;28;01mfor\u001b[39;00m batch \u001b[38;5;129;01min\u001b[39;00m train_dataloader:\n\u001b[0;32m--> 185\u001b[0m         \u001b[38;5;28;43mself\u001b[39;49m\u001b[38;5;241;43m.\u001b[39;49m\u001b[43mtrainStep\u001b[49m\u001b[43m(\u001b[49m\u001b[43msteps\u001b[49m\u001b[43m \u001b[49m\u001b[38;5;241;43m=\u001b[39;49m\u001b[43m \u001b[49m\u001b[43msteps\u001b[49m\u001b[43m,\u001b[49m\u001b[43mbatch\u001b[49m\u001b[38;5;241;43m=\u001b[39;49m\u001b[43m \u001b[49m\u001b[43mbatch\u001b[49m\u001b[43m,\u001b[49m\u001b[43mlam\u001b[49m\u001b[38;5;241;43m=\u001b[39;49m\u001b[43m \u001b[49m\u001b[43mlam\u001b[49m\u001b[43m,\u001b[49m\u001b[43m \u001b[49m\u001b[43mpredictor_optimizer\u001b[49m\u001b[38;5;241;43m=\u001b[39;49m\u001b[43m \u001b[49m\u001b[43mpredictor_optimizer\u001b[49m\u001b[43m)\u001b[49m\n\u001b[1;32m    186\u001b[0m         steps \u001b[38;5;241m+\u001b[39m\u001b[38;5;241m=\u001b[39m \u001b[38;5;241m1\u001b[39m            \n\u001b[1;32m    188\u001b[0m         \u001b[38;5;28;01mif\u001b[39;00m steps\u001b[38;5;241m%\u001b[39m\u001b[38;5;241m1000\u001b[39m \u001b[38;5;241m==\u001b[39m \u001b[38;5;241m0\u001b[39m:\n",
      "File \u001b[0;32m~/Desktop/UNSW/flowprintOptimal/sekigo/earlyClassification/DQL/trainers.py:112\u001b[0m, in \u001b[0;36mEarlyClassificationtrainer.trainStep\u001b[0;34m(self, steps, batch, lam, predictor_optimizer)\u001b[0m\n\u001b[1;32m    107\u001b[0m \u001b[38;5;124;03m\"\"\"\u001b[39;00m\n\u001b[1;32m    108\u001b[0m \u001b[38;5;124;03mstate and next state is (BS,num_classes)\u001b[39;00m\n\u001b[1;32m    109\u001b[0m \u001b[38;5;124;03m\"\"\"\u001b[39;00m\n\u001b[1;32m    110\u001b[0m \u001b[38;5;66;03m#self.trainFullClassifier(batch_size= batch[\"action\"].shape[0],predictor_optimizer= predictor_optimizer)\u001b[39;00m\n\u001b[0;32m--> 112\u001b[0m predicted_values_for_taken_action,target \u001b[38;5;241m=\u001b[39m \u001b[38;5;28;43mself\u001b[39;49m\u001b[38;5;241;43m.\u001b[39;49m\u001b[43mcalcQLearning\u001b[49m\u001b[43m(\u001b[49m\u001b[43mbatch\u001b[49m\u001b[38;5;241;43m=\u001b[39;49m\u001b[43m \u001b[49m\u001b[43mbatch\u001b[49m\u001b[43m,\u001b[49m\u001b[43m \u001b[49m\u001b[43mlam\u001b[49m\u001b[38;5;241;43m=\u001b[39;49m\u001b[43m \u001b[49m\u001b[43mlam\u001b[49m\u001b[43m)\u001b[49m\n\u001b[1;32m    115\u001b[0m weight \u001b[38;5;241m=\u001b[39m torch\u001b[38;5;241m.\u001b[39mones_like(target)\u001b[38;5;241m.\u001b[39mto(\u001b[38;5;28mself\u001b[39m\u001b[38;5;241m.\u001b[39mdevice)\n\u001b[1;32m    116\u001b[0m \u001b[38;5;28;01mif\u001b[39;00m \u001b[38;5;124m\"\u001b[39m\u001b[38;5;124mIS_weights\u001b[39m\u001b[38;5;124m\"\u001b[39m \u001b[38;5;129;01min\u001b[39;00m batch:\n",
      "File \u001b[0;32m~/Desktop/UNSW/flowprintOptimal/sekigo/earlyClassification/DQL/trainers.py:95\u001b[0m, in \u001b[0;36mEarlyClassificationtrainer.calcQLearning\u001b[0;34m(self, batch, lam)\u001b[0m\n\u001b[1;32m     92\u001b[0m predicted_values_for_taken_action \u001b[38;5;241m=\u001b[39m torch\u001b[38;5;241m.\u001b[39mgather(\u001b[38;5;28minput\u001b[39m\u001b[38;5;241m=\u001b[39m predicted_values, dim\u001b[38;5;241m=\u001b[39m \u001b[38;5;241m1\u001b[39m,index\u001b[38;5;241m=\u001b[39m action\u001b[38;5;241m.\u001b[39munsqueeze(\u001b[38;5;241m-\u001b[39m\u001b[38;5;241m1\u001b[39m))\u001b[38;5;241m.\u001b[39msqueeze() \u001b[38;5;66;03m# (BS)\u001b[39;00m\n\u001b[1;32m     94\u001b[0m \u001b[38;5;28;01mwith\u001b[39;00m torch\u001b[38;5;241m.\u001b[39mno_grad():\n\u001b[0;32m---> 95\u001b[0m     next_state_max_actions_model \u001b[38;5;241m=\u001b[39m torch\u001b[38;5;241m.\u001b[39margmax(\u001b[38;5;28;43mself\u001b[39;49m\u001b[38;5;241;43m.\u001b[39;49m\u001b[43mpredictor\u001b[49m\u001b[43m(\u001b[49m\u001b[43mnext_state\u001b[49m\u001b[43m)\u001b[49m[\u001b[38;5;241m0\u001b[39m],dim \u001b[38;5;241m=\u001b[39m \u001b[38;5;241m-\u001b[39m\u001b[38;5;241m1\u001b[39m,keepdim\u001b[38;5;241m=\u001b[39m \u001b[38;5;28;01mTrue\u001b[39;00m) \u001b[38;5;66;03m# (BS,1)\u001b[39;00m\n\u001b[1;32m     96\u001b[0m     next_state_values_lag_model \u001b[38;5;241m=\u001b[39m \u001b[38;5;28mself\u001b[39m\u001b[38;5;241m.\u001b[39mlag_predictor(next_state)[\u001b[38;5;241m0\u001b[39m] \u001b[38;5;66;03m# (BS,K+1)\u001b[39;00m\n\u001b[1;32m     97\u001b[0m     next_state_values_for_max_action \u001b[38;5;241m=\u001b[39m torch\u001b[38;5;241m.\u001b[39mgather(\u001b[38;5;28minput\u001b[39m\u001b[38;5;241m=\u001b[39m next_state_values_lag_model, dim\u001b[38;5;241m=\u001b[39m \u001b[38;5;241m1\u001b[39m, index\u001b[38;5;241m=\u001b[39m next_state_max_actions_model) \u001b[38;5;66;03m# (BS,1)\u001b[39;00m\n",
      "File \u001b[0;32m~/.local/lib/python3.10/site-packages/torch/nn/modules/module.py:1532\u001b[0m, in \u001b[0;36mModule._wrapped_call_impl\u001b[0;34m(self, *args, **kwargs)\u001b[0m\n\u001b[1;32m   1530\u001b[0m     \u001b[38;5;28;01mreturn\u001b[39;00m \u001b[38;5;28mself\u001b[39m\u001b[38;5;241m.\u001b[39m_compiled_call_impl(\u001b[38;5;241m*\u001b[39margs, \u001b[38;5;241m*\u001b[39m\u001b[38;5;241m*\u001b[39mkwargs)  \u001b[38;5;66;03m# type: ignore[misc]\u001b[39;00m\n\u001b[1;32m   1531\u001b[0m \u001b[38;5;28;01melse\u001b[39;00m:\n\u001b[0;32m-> 1532\u001b[0m     \u001b[38;5;28;01mreturn\u001b[39;00m \u001b[38;5;28;43mself\u001b[39;49m\u001b[38;5;241;43m.\u001b[39;49m\u001b[43m_call_impl\u001b[49m\u001b[43m(\u001b[49m\u001b[38;5;241;43m*\u001b[39;49m\u001b[43margs\u001b[49m\u001b[43m,\u001b[49m\u001b[43m \u001b[49m\u001b[38;5;241;43m*\u001b[39;49m\u001b[38;5;241;43m*\u001b[39;49m\u001b[43mkwargs\u001b[49m\u001b[43m)\u001b[49m\n",
      "File \u001b[0;32m~/.local/lib/python3.10/site-packages/torch/nn/modules/module.py:1541\u001b[0m, in \u001b[0;36mModule._call_impl\u001b[0;34m(self, *args, **kwargs)\u001b[0m\n\u001b[1;32m   1536\u001b[0m \u001b[38;5;66;03m# If we don't have any hooks, we want to skip the rest of the logic in\u001b[39;00m\n\u001b[1;32m   1537\u001b[0m \u001b[38;5;66;03m# this function, and just call forward.\u001b[39;00m\n\u001b[1;32m   1538\u001b[0m \u001b[38;5;28;01mif\u001b[39;00m \u001b[38;5;129;01mnot\u001b[39;00m (\u001b[38;5;28mself\u001b[39m\u001b[38;5;241m.\u001b[39m_backward_hooks \u001b[38;5;129;01mor\u001b[39;00m \u001b[38;5;28mself\u001b[39m\u001b[38;5;241m.\u001b[39m_backward_pre_hooks \u001b[38;5;129;01mor\u001b[39;00m \u001b[38;5;28mself\u001b[39m\u001b[38;5;241m.\u001b[39m_forward_hooks \u001b[38;5;129;01mor\u001b[39;00m \u001b[38;5;28mself\u001b[39m\u001b[38;5;241m.\u001b[39m_forward_pre_hooks\n\u001b[1;32m   1539\u001b[0m         \u001b[38;5;129;01mor\u001b[39;00m _global_backward_pre_hooks \u001b[38;5;129;01mor\u001b[39;00m _global_backward_hooks\n\u001b[1;32m   1540\u001b[0m         \u001b[38;5;129;01mor\u001b[39;00m _global_forward_hooks \u001b[38;5;129;01mor\u001b[39;00m _global_forward_pre_hooks):\n\u001b[0;32m-> 1541\u001b[0m     \u001b[38;5;28;01mreturn\u001b[39;00m \u001b[43mforward_call\u001b[49m\u001b[43m(\u001b[49m\u001b[38;5;241;43m*\u001b[39;49m\u001b[43margs\u001b[49m\u001b[43m,\u001b[49m\u001b[43m \u001b[49m\u001b[38;5;241;43m*\u001b[39;49m\u001b[38;5;241;43m*\u001b[39;49m\u001b[43mkwargs\u001b[49m\u001b[43m)\u001b[49m\n\u001b[1;32m   1543\u001b[0m \u001b[38;5;28;01mtry\u001b[39;00m:\n\u001b[1;32m   1544\u001b[0m     result \u001b[38;5;241m=\u001b[39m \u001b[38;5;28;01mNone\u001b[39;00m\n",
      "File \u001b[0;32m~/Desktop/UNSW/flowprintOptimal/sekigo/modeling/neuralNetworks.py:95\u001b[0m, in \u001b[0;36mLSTMDuelingNetwork.forward\u001b[0;34m(self, X)\u001b[0m\n\u001b[1;32m     93\u001b[0m     lstm_out \u001b[38;5;241m=\u001b[39m lstm_out[:,\u001b[38;5;241m-\u001b[39m\u001b[38;5;241m1\u001b[39m,:]\n\u001b[1;32m     94\u001b[0m \u001b[38;5;28;01melse\u001b[39;00m:\n\u001b[0;32m---> 95\u001b[0m     lstm_out \u001b[38;5;241m=\u001b[39m \u001b[38;5;28;43mself\u001b[39;49m\u001b[38;5;241;43m.\u001b[39;49m\u001b[43m_unpackAndGetFeatureFromLSTMOutput\u001b[49m\u001b[43m(\u001b[49m\u001b[43mlstm_out\u001b[49m\u001b[38;5;241;43m=\u001b[39;49m\u001b[43m \u001b[49m\u001b[43mlstm_out\u001b[49m\u001b[43m)\u001b[49m\n\u001b[1;32m     98\u001b[0m \u001b[38;5;66;03m#lstm_out = lstm_out#/torch.linalg.norm(lstm_out,dim = -1,keepdims = True)\u001b[39;00m\n\u001b[1;32m     99\u001b[0m values \u001b[38;5;241m=\u001b[39m \u001b[38;5;28mself\u001b[39m\u001b[38;5;241m.\u001b[39mvalue_linear(lstm_out)\n",
      "File \u001b[0;32m~/Desktop/UNSW/flowprintOptimal/sekigo/modeling/neuralNetworks.py:26\u001b[0m, in \u001b[0;36mBaseLSTMNetwork._unpackAndGetFeatureFromLSTMOutput\u001b[0;34m(self, lstm_out)\u001b[0m\n\u001b[1;32m     25\u001b[0m \u001b[38;5;28;01mdef\u001b[39;00m \u001b[38;5;21m_unpackAndGetFeatureFromLSTMOutput\u001b[39m(\u001b[38;5;28mself\u001b[39m,lstm_out : nn\u001b[38;5;241m.\u001b[39mutils\u001b[38;5;241m.\u001b[39mrnn\u001b[38;5;241m.\u001b[39mPackedSequence):\n\u001b[0;32m---> 26\u001b[0m     lstm_out \u001b[38;5;241m=\u001b[39m \u001b[43munpack_sequence\u001b[49m\u001b[43m(\u001b[49m\u001b[43mlstm_out\u001b[49m\u001b[43m)\u001b[49m\n\u001b[1;32m     27\u001b[0m     lstm_out \u001b[38;5;241m=\u001b[39m \u001b[38;5;28mlist\u001b[39m(\u001b[38;5;28mmap\u001b[39m(\u001b[38;5;28;01mlambda\u001b[39;00m x : x[\u001b[38;5;241m-\u001b[39m\u001b[38;5;241m1\u001b[39m],lstm_out))\n\u001b[1;32m     28\u001b[0m     lstm_out \u001b[38;5;241m=\u001b[39m torch\u001b[38;5;241m.\u001b[39mstack(lstm_out,dim\u001b[38;5;241m=\u001b[39m \u001b[38;5;241m0\u001b[39m)\n",
      "File \u001b[0;32m~/.local/lib/python3.10/site-packages/torch/nn/utils/rnn.py:515\u001b[0m, in \u001b[0;36munpack_sequence\u001b[0;34m(packed_sequences)\u001b[0m\n\u001b[1;32m    487\u001b[0m \u001b[38;5;28;01mdef\u001b[39;00m \u001b[38;5;21munpack_sequence\u001b[39m(packed_sequences: PackedSequence) \u001b[38;5;241m-\u001b[39m\u001b[38;5;241m>\u001b[39m List[Tensor]:\n\u001b[1;32m    488\u001b[0m     \u001b[38;5;124mr\u001b[39m\u001b[38;5;124;03m\"\"\"Unpack PackedSequence into a list of variable length Tensors.\u001b[39;00m\n\u001b[1;32m    489\u001b[0m \n\u001b[1;32m    490\u001b[0m \u001b[38;5;124;03m    ``packed_sequences`` should be a PackedSequence object.\u001b[39;00m\n\u001b[0;32m   (...)\u001b[0m\n\u001b[1;32m    513\u001b[0m \u001b[38;5;124;03m        a list of :class:`Tensor` objects\u001b[39;00m\n\u001b[1;32m    514\u001b[0m \u001b[38;5;124;03m    \"\"\"\u001b[39;00m\n\u001b[0;32m--> 515\u001b[0m     padded_sequences, lengths \u001b[38;5;241m=\u001b[39m \u001b[43mpad_packed_sequence\u001b[49m\u001b[43m(\u001b[49m\u001b[43mpacked_sequences\u001b[49m\u001b[43m,\u001b[49m\u001b[43m \u001b[49m\u001b[43mbatch_first\u001b[49m\u001b[38;5;241;43m=\u001b[39;49m\u001b[38;5;28;43;01mTrue\u001b[39;49;00m\u001b[43m)\u001b[49m\n\u001b[1;32m    516\u001b[0m     unpacked_sequences \u001b[38;5;241m=\u001b[39m unpad_sequence(padded_sequences, lengths, batch_first\u001b[38;5;241m=\u001b[39m\u001b[38;5;28;01mTrue\u001b[39;00m)\n\u001b[1;32m    517\u001b[0m     \u001b[38;5;28;01mreturn\u001b[39;00m unpacked_sequences\n",
      "\u001b[0;31mKeyboardInterrupt\u001b[0m: "
     ]
    }
   ],
   "source": [
    "ddq_model.train(epochs= 20,batch_size= 128,lr= .0003,lam= .99)  "
   ]
  },
  {
   "cell_type": "code",
   "execution_count": 58,
   "metadata": {},
   "outputs": [
    {
     "data": {
      "text/plain": [
       "'deployment_ood'"
      ]
     },
     "execution_count": 58,
     "metadata": {},
     "output_type": "execute_result"
    }
   ],
   "source": [
    "configs[\"name\"] "
   ]
  },
  {
   "cell_type": "code",
   "execution_count": 60,
   "metadata": {},
   "outputs": [],
   "source": [
    "configs[\"name\"] = \"deployment_ood\""
   ]
  },
  {
   "cell_type": "code",
   "execution_count": 61,
   "metadata": {},
   "outputs": [],
   "source": [
    "documenter = Documenter(train_dataset= train_dataset,test_dataset= test_dataset, ood_dataset = ood_dataset,full_model= classification_trainer.best[\"model\"], early_model= ddq_model.best[\"model\"],\n",
    "                        configs= configs\n",
    "                        )"
   ]
  },
  {
   "cell_type": "code",
   "execution_count": 62,
   "metadata": {},
   "outputs": [],
   "source": [
    "documenter.document(name= configs[\"name\"])"
   ]
  },
  {
   "cell_type": "code",
   "execution_count": 63,
   "metadata": {},
   "outputs": [
    {
     "data": {
      "text/plain": [
       "({'Video': 0,\n",
       "  'Mail': 1,\n",
       "  'Download': 2,\n",
       "  'Software Update': 3,\n",
       "  'File Storage': 4,\n",
       "  'Conferencing': 5},\n",
       " 3671)"
      ]
     },
     "execution_count": 63,
     "metadata": {},
     "output_type": "execute_result"
    }
   ],
   "source": [
    "test_dataset.label_to_index, len(test_dataset)"
   ]
  },
  {
   "cell_type": "code",
   "execution_count": 28,
   "metadata": {},
   "outputs": [
    {
     "data": {
      "text/plain": [
       "{'micro_f1': 0.8502902535899786,\n",
       " 'macro_f1': 0.8464111516427878,\n",
       " 'accuracy': 0.8502902535899786,\n",
       " 'cm': array([[464,  51,  28,  62],\n",
       "        [ 46, 761,  16,  67],\n",
       "        [ 44,   9, 660,  31],\n",
       "        [ 32,  90,  14, 898]]),\n",
       " 'per_class_f1': array([0.77917716, 0.84508606, 0.90287278, 0.8585086 ]),\n",
       " 'time': 26.06355025970058,\n",
       " 'time_std': 45.345423012582366,\n",
       " 'incorrect_ood': 0.003045994517209869,\n",
       " 'ood_accuracy': 0.6326693227091633,\n",
       " 'ood_time': 20.650996015936254}"
      ]
     },
     "execution_count": 28,
     "metadata": {},
     "output_type": "execute_result"
    }
   ],
   "source": [
    "EarlyEvaluation(min_steps= 1,device= device,model= ddq_model.best[\"model\"]).getMetrices(dataset= test_dataset,ood_dataset= ood_dataset)"
   ]
  },
  {
   "cell_type": "code",
   "execution_count": null,
   "metadata": {},
   "outputs": [],
   "source": []
  },
  {
   "cell_type": "code",
   "execution_count": 30,
   "metadata": {},
   "outputs": [
    {
     "data": {
      "text/plain": [
       "[<matplotlib.lines.Line2D at 0x733ecd202f50>]"
      ]
     },
     "execution_count": 30,
     "metadata": {},
     "output_type": "execute_result"
    },
    {
     "data": {
      "image/png": "[encoded data removed]",
      "text/plain": [
       "<Figure size 640x480 with 1 Axes>"
      ]
     },
     "metadata": {},
     "output_type": "display_data"
    }
   ],
   "source": [
    "plt.plot(logger.getMetric(\"test_eval_f1\"))"
   ]
  },
  {
   "cell_type": "code",
   "execution_count": null,
   "metadata": {},
   "outputs": [
    {
     "ename": "RuntimeError",
     "evalue": "CUDA error: unspecified launch failure\nCUDA kernel errors might be asynchronously reported at some other API call, so the stacktrace below might be incorrect.\nFor debugging consider passing CUDA_LAUNCH_BLOCKING=1.\nCompile with `TORCH_USE_CUDA_DSA` to enable device-side assertions.\n",
     "output_type": "error",
     "traceback": [
      "\u001b[0;31m---------------------------------------------------------------------------\u001b[0m",
      "\u001b[0;31mRuntimeError\u001b[0m                              Traceback (most recent call last)",
      "Cell \u001b[0;32mIn[17], line 1\u001b[0m\n\u001b[0;32m----> 1\u001b[0m res \u001b[38;5;241m=\u001b[39m \u001b[43mddq_model\u001b[49m\u001b[38;5;241;43m.\u001b[39;49m\u001b[43meval\u001b[49m\u001b[43m(\u001b[49m\u001b[43mdataset\u001b[49m\u001b[38;5;241;43m=\u001b[39;49m\u001b[43m \u001b[49m\u001b[43mtest_dataset\u001b[49m\u001b[43m)\u001b[49m\n\u001b[1;32m      2\u001b[0m res\n",
      "File \u001b[0;32m~/Desktop/UNSW/flowprintOptimal/sekigo/earlyClassification/DQL/trainers.py:153\u001b[0m, in \u001b[0;36mEarlyClassificationtrainer.eval\u001b[0;34m(self, dataset)\u001b[0m\n\u001b[1;32m    152\u001b[0m \u001b[38;5;28;01mdef\u001b[39;00m \u001b[38;5;21meval\u001b[39m(\u001b[38;5;28mself\u001b[39m,dataset : BaseFlowDataset):\n\u001b[0;32m--> 153\u001b[0m     predictions \u001b[38;5;241m=\u001b[39m \u001b[38;5;28;43mself\u001b[39;49m\u001b[38;5;241;43m.\u001b[39;49m\u001b[43mpredictOnDataset\u001b[49m\u001b[43m(\u001b[49m\u001b[43mdataset\u001b[49m\u001b[38;5;241;43m=\u001b[39;49m\u001b[43m \u001b[49m\u001b[43mdataset\u001b[49m\u001b[43m)\u001b[49m\n\u001b[1;32m    154\u001b[0m     labels \u001b[38;5;241m=\u001b[39m \u001b[38;5;28mlist\u001b[39m(\u001b[38;5;28mmap\u001b[39m(\u001b[38;5;28;01mlambda\u001b[39;00m x : x[\u001b[38;5;124m\"\u001b[39m\u001b[38;5;124mlabel\u001b[39m\u001b[38;5;124m\"\u001b[39m], dataset))\n\u001b[1;32m    156\u001b[0m     predicted_labels,time \u001b[38;5;241m=\u001b[39m [],[]\n",
      "File \u001b[0;32m~/Desktop/UNSW/flowprintOptimal/sekigo/earlyClassification/DQL/trainers.py:140\u001b[0m, in \u001b[0;36mEarlyClassificationtrainer.predictOnDataset\u001b[0;34m(self, dataset)\u001b[0m\n\u001b[1;32m    138\u001b[0m predictions \u001b[38;5;241m=\u001b[39m []\n\u001b[1;32m    139\u001b[0m \u001b[38;5;28;01mfor\u001b[39;00m batch \u001b[38;5;129;01min\u001b[39;00m dataloader:\n\u001b[0;32m--> 140\u001b[0m     batch_X,batch_y \u001b[38;5;241m=\u001b[39m \u001b[43mbatch\u001b[49m\u001b[43m[\u001b[49m\u001b[38;5;124;43m\"\u001b[39;49m\u001b[38;5;124;43mdata\u001b[39;49m\u001b[38;5;124;43m\"\u001b[39;49m\u001b[43m]\u001b[49m\u001b[38;5;241;43m.\u001b[39;49m\u001b[43mfloat\u001b[49m\u001b[43m(\u001b[49m\u001b[43m)\u001b[49m\u001b[38;5;241;43m.\u001b[39;49m\u001b[43mto\u001b[49m\u001b[43m(\u001b[49m\u001b[38;5;28;43mself\u001b[39;49m\u001b[38;5;241;43m.\u001b[39;49m\u001b[43mdevice\u001b[49m\u001b[43m)\u001b[49m, batch[\u001b[38;5;124m\"\u001b[39m\u001b[38;5;124mlabel\u001b[39m\u001b[38;5;124m\"\u001b[39m]\u001b[38;5;241m.\u001b[39mto(\u001b[38;5;28mself\u001b[39m\u001b[38;5;241m.\u001b[39mdevice)\n\u001b[1;32m    141\u001b[0m     predicted \u001b[38;5;241m=\u001b[39m \u001b[38;5;28mself\u001b[39m\u001b[38;5;241m.\u001b[39mpredictStep(batch_X \u001b[38;5;241m=\u001b[39m batch_X)\u001b[38;5;241m.\u001b[39mcpu()\u001b[38;5;241m.\u001b[39mnumpy() \u001b[38;5;66;03m# (BS,seq_len)\u001b[39;00m\n\u001b[1;32m    142\u001b[0m     processed_predictions \u001b[38;5;241m=\u001b[39m \u001b[38;5;28mmap\u001b[39m(\u001b[38;5;28;01mlambda\u001b[39;00m x : \u001b[38;5;28mself\u001b[39m\u001b[38;5;241m.\u001b[39m__processSinglePrediction(x,\u001b[38;5;28mlen\u001b[39m(dataset\u001b[38;5;241m.\u001b[39mlabel_to_index)), predicted)\n",
      "\u001b[0;31mRuntimeError\u001b[0m: CUDA error: unspecified launch failure\nCUDA kernel errors might be asynchronously reported at some other API call, so the stacktrace below might be incorrect.\nFor debugging consider passing CUDA_LAUNCH_BLOCKING=1.\nCompile with `TORCH_USE_CUDA_DSA` to enable device-side assertions.\n"
     ]
    }
   ],
   "source": [
    "res = ddq_model.eval(dataset= test_dataset)\n",
    "res"
   ]
  },
  {
   "cell_type": "code",
   "execution_count": null,
   "metadata": {},
   "outputs": [],
   "source": [
    "preds = ddq_model.predictOnDataset(dataset= test_dataset)\n",
    "preds = np.array(preds)[:,0]\n",
    "labels = list(map(lambda x : x[\"label\"], test_dataset))"
   ]
  },
  {
   "cell_type": "code",
   "execution_count": null,
   "metadata": {},
   "outputs": [],
   "source": [
    "preds[(preds == -1)] = 0"
   ]
  },
  {
   "cell_type": "code",
   "execution_count": null,
   "metadata": {},
   "outputs": [
    {
     "data": {
      "text/plain": [
       "{'BROWSERS': 0, 'P2P': 1, 'OTHER': 2, 'Skype': 3, 'MAIL': 4}"
      ]
     },
     "execution_count": 27,
     "metadata": {},
     "output_type": "execute_result"
    }
   ],
   "source": [
    "test_dataset.label_to_index"
   ]
  },
  {
   "cell_type": "code",
   "execution_count": null,
   "metadata": {},
   "outputs": [
    {
     "data": {
      "text/plain": [
       "array([[1796,    6,  302,  347,    6],\n",
       "       [  23, 2398,   17,    8,    8],\n",
       "       [ 501,   10, 1258,  209,   21],\n",
       "       [ 195,   12,   63, 1811,    3],\n",
       "       [  66,   13,   22,   16, 1113]])"
      ]
     },
     "execution_count": 26,
     "metadata": {},
     "output_type": "execute_result"
    }
   ],
   "source": [
    "\n",
    "\n",
    "confusion_matrix(y_true= labels,y_pred= preds)"
   ]
  },
  {
   "cell_type": "code",
   "execution_count": null,
   "metadata": {},
   "outputs": [],
   "source": [
    "test_dataset.label_to_index\n",
    "index_to_label = {x:y for y,x in test_dataset.label_to_index.items()}"
   ]
  },
  {
   "cell_type": "code",
   "execution_count": null,
   "metadata": {},
   "outputs": [],
   "source": [
    "labels = np.array(test_dataset.get_labels())\n",
    "unique_labels = np.unique(labels)\n",
    "res = ddq_model.predictOnDataset(test_dataset)\n",
    "res = np.array(res)[:,1]"
   ]
  },
  {
   "cell_type": "code",
   "execution_count": null,
   "metadata": {},
   "outputs": [],
   "source": [
    "ut_dct = dict()\n",
    "for label in unique_labels:\n",
    "    ut_dct[index_to_label[label]] =  res[labels == label].mean()"
   ]
  },
  {
   "cell_type": "code",
   "execution_count": null,
   "metadata": {},
   "outputs": [
    {
     "data": {
      "text/plain": [
       "{'google-maps': 9.732919254658386,\n",
       " 'youtube': 11.95539033457249,\n",
       " 'instagram': 12.003968253968255,\n",
       " 'pinterest': 9.855371900826446,\n",
       " 'spotify': 11.63953488372093,\n",
       " 'facebook': 11.846456692913385,\n",
       " 'google-drive': 8.884146341463415,\n",
       " 'twitter': 10.19186046511628,\n",
       " 'netflix': 9.655581947743467,\n",
       " 'reddit': 11.238235294117647,\n",
       " 'hangout': 8.974025974025974,\n",
       " 'messenger': 12.655913978494624,\n",
       " 'gmail': 11.673684210526316}"
      ]
     },
     "execution_count": 129,
     "metadata": {},
     "output_type": "execute_result"
    }
   ],
   "source": [
    "ut_dct"
   ]
  },
  {
   "cell_type": "code",
   "execution_count": null,
   "metadata": {},
   "outputs": [
    {
     "data": {
      "image/png": "[encoded data removed]",
      "text/plain": [
       "<Figure size 1500x600 with 3 Axes>"
      ]
     },
     "metadata": {},
     "output_type": "display_data"
    }
   ],
   "source": [
    "import matplotlib.pyplot as plt\n",
    "import numpy as np\n",
    "import matplotlib.gridspec as gridspec\n",
    "\n",
    "def getDataDct(dct):\n",
    "    X,y = [],[]\n",
    "    for key,value in dct.items():\n",
    "        X.append(key)\n",
    "        y.append(value)\n",
    "    return X,y\n",
    "# Sample data for 4 datasets, each containing classes and corresponding values\n",
    "class_data = {\n",
    "    'UTMobileNet-2021': ut_dct,\n",
    "    'VNAT': {'Streaming': 6.19, 'Control': 6.25, 'Chat': 6.05, 'FT': 7.07},\n",
    "    'UNIBS-2009': {'Mail': 9.75, 'Skype': 10.17, 'Browsers': 6.48, 'P2P': 7.28, 'Others': 8.62},\n",
    "}\n",
    "\n",
    "\n",
    "\n",
    "f, axes = plt.subplots(1, len(class_data), sharex='col', sharey='row', figsize=(15, 6),gridspec_kw={'width_ratios':[11,4,5]})\n",
    "\n",
    "for i,dataset in enumerate(class_data):\n",
    "    X,y = getDataDct(class_data[dataset])\n",
    "    axes[i].bar(X,y)\n",
    "    axes[i].set_title(dataset)\n",
    "    axes[i].tick_params(axis='x', rotation=70,labelsize = 11)\n",
    "    if i == 0:\n",
    "        axes[i].set_ylabel('Number of Packets')  # Set y-axis label\n",
    "\n",
    "\n",
    "\n",
    "plt.tight_layout()\n",
    "plt.show()\n"
   ]
  },
  {
   "cell_type": "code",
   "execution_count": null,
   "metadata": {},
   "outputs": [
    {
     "data": {
      "text/plain": [
       "9.732919254658386"
      ]
     },
     "execution_count": 91,
     "metadata": {},
     "output_type": "execute_result"
    }
   ],
   "source": [
    "res[labels == 0].mean()"
   ]
  },
  {
   "cell_type": "code",
   "execution_count": null,
   "metadata": {},
   "outputs": [
    {
     "data": {
      "text/plain": [
       "[<matplotlib.lines.Line2D at 0x765f801d4220>]"
      ]
     },
     "execution_count": 31,
     "metadata": {},
     "output_type": "execute_result"
    },
    {
     "data": {
      "image/png": "[encoded data removed]",
      "text/plain": [
       "<Figure size 640x480 with 1 Axes>"
      ]
     },
     "metadata": {},
     "output_type": "display_data"
    }
   ],
   "source": [
    "plt.plot(logger.getMetric(\"test_eval_f1\"))"
   ]
  },
  {
   "cell_type": "code",
   "execution_count": null,
   "metadata": {},
   "outputs": [
    {
     "data": {
      "text/plain": [
       "64"
      ]
     },
     "execution_count": 32,
     "metadata": {},
     "output_type": "execute_result"
    }
   ],
   "source": [
    "np.argmax(np.array(logger.getMetric(metric_name= \"test_eval_f1\")))"
   ]
  },
  {
   "cell_type": "code",
   "execution_count": null,
   "metadata": {},
   "outputs": [
    {
     "data": {
      "text/plain": [
       "7.814477468839885"
      ]
     },
     "execution_count": 34,
     "metadata": {},
     "output_type": "execute_result"
    }
   ],
   "source": [
    "logger.getMetric(metric_name= \"test_eval_time\")[64]"
   ]
  },
  {
   "cell_type": "code",
   "execution_count": null,
   "metadata": {},
   "outputs": [
    {
     "data": {
      "text/plain": [
       "0.9775886864813039"
      ]
     },
     "execution_count": 35,
     "metadata": {},
     "output_type": "execute_result"
    }
   ],
   "source": [
    "logger.getMetric(metric_name= \"test_eval_f1\")[64]"
   ]
  },
  {
   "cell_type": "code",
   "execution_count": null,
   "metadata": {},
   "outputs": [],
   "source": []
  }
 ],
 "metadata": {
  "kernelspec": {
   "display_name": "Python 3",
   "language": "python",
   "name": "python3"
  },
  "language_info": {
   "codemirror_mode": {
    "name": "ipython",
    "version": 3
   },
   "file_extension": ".py",
   "mimetype": "text/x-python",
   "name": "python",
   "nbconvert_exporter": "python",
   "pygments_lexer": "ipython3",
   "version": "3.10.12"
  }
 },
 "nbformat": 4,
 "nbformat_minor": 2
}
