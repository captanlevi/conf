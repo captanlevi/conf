{
 "cells": [
  {
   "cell_type": "code",
   "execution_count": 1,
   "metadata": {},
   "outputs": [],
   "source": [
    "from flowprintOptimal.sekigo.train import Trainer\n",
    "import warnings\n",
    "warnings.filterwarnings('ignore')\n",
    "from flowprintOptimal.sekigo.utils.evaluations import EarlyEvaluation\n",
    "import torch\n",
    "device = torch.device(\"cuda\" if torch.cuda.is_available() else \"cpu\")\n",
    "from flowprintOptimal.sekigo.utils.documentor import Documenter"
   ]
  },
  {
   "cell_type": "code",
   "execution_count": 2,
   "metadata": {},
   "outputs": [],
   "source": [
    "configs = dict(\n",
    "    name = \"deployment_fs\",\n",
    "    description = \"deployment_fs\",\n",
    "    \n",
    "    common_config = dict(\n",
    "        max_timesteps = 15,\n",
    "        min_timesteps = 8\n",
    "    ),\n",
    "    \n",
    "    full_model_kwargs = dict(\n",
    "        lstm_hidden_size = 256,\n",
    "        layers= 2, lstm_input_size = 3\n",
    "    ),\n",
    "\n",
    "    early_model_kwargs = dict(\n",
    "        lstm_input_size= 3,lstm_hidden_size= 256,layers = 2                    \n",
    "    ),\n",
    "    \n",
    "    data_config = dict(\n",
    "        dataset_name = \"deployment_fs\",\n",
    "        subsampleConfig = None,#dict(max_gap = 20, min_gap = 5),                             \n",
    "        max_flow_length = 100, # in seconds  ( each flow sample cannot excede this length)\n",
    "        test_size = .2,\n",
    "        ood_classes = [],\n",
    "        do_balance = False,\n",
    "        data_type = \"packet_representation\",\n",
    "        truncate_length = 20\n",
    "\n",
    "    ),\n",
    "\n",
    "    rewarder_config = dict(\n",
    "        l = .5\n",
    "    ),\n",
    "\n",
    "    dataset_config = dict(\n",
    "        aug = [0,.2]\n",
    "    ),\n",
    "\n",
    "    memory_fillter_config = dict(\n",
    "        ood_config = dict(ood_aug = [.6,.9], ood_prob = .2),\n",
    "        min_length = 1,\n",
    "        use_balancer = False\n",
    "    ),\n",
    "    full_trainer_config = dict(\n",
    "        use_sampler = False\n",
    "    ),\n",
    "    early_trainer_config = dict(\n",
    "        use_sampler = False  # this is for giving more weight to wait samples\n",
    "    )\n",
    "\n",
    ")"
   ]
  },
  {
   "cell_type": "code",
   "execution_count": 3,
   "metadata": {},
   "outputs": [],
   "source": [
    "trainer = Trainer(configs = configs)"
   ]
  },
  {
   "cell_type": "code",
   "execution_count": 4,
   "metadata": {},
   "outputs": [
    {
     "name": "stdout",
     "output_type": "stream",
     "text": [
      "start\n",
      "data/ClassificationOnlyFlows/deployment_fs\n",
      "Got datasets\n",
      "534720\n",
      " 1    132720\n",
      " 3    117840\n",
      " 2    111480\n",
      " 0     88800\n",
      "-1     53280\n",
      " 4     30600\n",
      "Name: count, dtype: int64\n",
      " ---- 1000 metric q_loss = 0.4854807216823101\n",
      "updated best with f1 = 0.23777845590479094\n",
      " ---- 1 metric test_eval_f1 = 0.23777845590479094\n",
      " ---- 1 metric test_eval_time = 14.705521472392638\n",
      " ---- 1 metric incorrect_ood_test = 0.7073608617594255\n",
      " ---- 2000 metric q_loss = 0.45444431874156\n",
      "updated best with f1 = 0.34494598748245986\n",
      " ---- 2 metric test_eval_f1 = 0.34494598748245986\n",
      " ---- 2 metric test_eval_time = 8.067469879518072\n",
      " ---- 2 metric incorrect_ood_test = 0.25493716337522443\n",
      " ---- 1 metric train_eval_f1 = 0.35505072606237337\n",
      " ---- 1 metric train_eval_time = 8.647165259348613\n",
      " ---- 1 metric incorrect_ood_train = 0.25583482944344704\n",
      " ---- 3000 metric q_loss = 0.42529991719126703\n",
      "updated best with f1 = 0.5485506919448013\n",
      " ---- 3 metric test_eval_f1 = 0.5485506919448013\n",
      " ---- 3 metric test_eval_time = 7.52972972972973\n",
      " ---- 3 metric incorrect_ood_test = 0.003590664272890485\n",
      " ---- 4000 metric q_loss = 0.4041352195441723\n",
      " ---- 4 metric test_eval_f1 = 0.4275915993611018\n",
      " ---- 4 metric test_eval_time = 3.097122302158273\n",
      " ---- 4 metric incorrect_ood_test = 0.0017953321364452424\n",
      " ---- 2 metric train_eval_f1 = 0.4348349041529481\n",
      " ---- 2 metric train_eval_time = 3.5286423094271537\n",
      " ---- 2 metric incorrect_ood_train = 0.004937163375224416\n",
      " ---- 5000 metric q_loss = 0.370028629258275\n",
      "updated best with f1 = 0.6885792985857376\n",
      " ---- 5 metric test_eval_f1 = 0.6885792985857376\n",
      " ---- 5 metric test_eval_time = 6.965391621129326\n",
      " ---- 5 metric incorrect_ood_test = 0.01436265709156194\n",
      " ---- 6000 metric q_loss = 0.3584420014023781\n",
      "updated best with f1 = 0.704404655864827\n",
      " ---- 6 metric test_eval_f1 = 0.704404655864827\n",
      " ---- 6 metric test_eval_time = 8.103825136612022\n",
      " ---- 6 metric incorrect_ood_test = 0.01436265709156194\n",
      " ---- 3 metric train_eval_f1 = 0.6890706685770508\n",
      " ---- 3 metric train_eval_time = 8.335437330928764\n",
      " ---- 3 metric incorrect_ood_train = 0.004488330341113106\n",
      " ---- 7000 metric q_loss = 0.34756594218313697\n",
      "updated best with f1 = 0.818422357076447\n",
      " ---- 7 metric test_eval_f1 = 0.818422357076447\n",
      " ---- 7 metric test_eval_time = 10.0\n",
      " ---- 7 metric incorrect_ood_test = 0.03590664272890485\n",
      " ---- 8000 metric q_loss = 0.33442271129786966\n",
      "updated best with f1 = 0.8605023302750785\n",
      " ---- 8 metric test_eval_f1 = 0.8605023302750785\n",
      " ---- 8 metric test_eval_time = 8.61231884057971\n",
      " ---- 8 metric incorrect_ood_test = 0.008976660682226212\n",
      " ---- 4 metric train_eval_f1 = 0.803344283319217\n",
      " ---- 4 metric train_eval_time = 8.473324213406293\n",
      " ---- 4 metric incorrect_ood_train = 0.01570915619389587\n",
      " ---- 9000 metric q_loss = 0.32281836664676666\n",
      " ---- 9 metric test_eval_f1 = 0.8566609330253911\n",
      " ---- 9 metric test_eval_time = 7.037974683544304\n",
      " ---- 9 metric incorrect_ood_test = 0.00718132854578097\n",
      " ---- 10000 metric q_loss = 0.31634726338088515\n",
      " ---- 10 metric test_eval_f1 = 0.856659282145215\n",
      " ---- 10 metric test_eval_time = 6.81981981981982\n",
      " ---- 10 metric incorrect_ood_test = 0.003590664272890485\n",
      " ---- 5 metric train_eval_f1 = 0.8167798181252224\n",
      " ---- 5 metric train_eval_time = 6.751689950428121\n",
      " ---- 5 metric incorrect_ood_train = 0.004039497307001795\n",
      " ---- 11000 metric q_loss = 0.30515253150463106\n",
      "updated best with f1 = 0.861371349991779\n",
      " ---- 11 metric test_eval_f1 = 0.861371349991779\n",
      " ---- 11 metric test_eval_time = 6.70990990990991\n",
      " ---- 11 metric incorrect_ood_test = 0.003590664272890485\n",
      " ---- 12000 metric q_loss = 0.2914404100179672\n",
      "updated best with f1 = 0.8899447176294724\n",
      " ---- 12 metric test_eval_f1 = 0.8899447176294724\n",
      " ---- 12 metric test_eval_time = 8.158273381294965\n",
      " ---- 12 metric incorrect_ood_test = 0.0017953321364452424\n",
      " ---- 6 metric train_eval_f1 = 0.8520852878827505\n",
      " ---- 6 metric train_eval_time = 8.010874490258269\n",
      " ---- 6 metric incorrect_ood_train = 0.009425493716337522\n",
      " ---- 13000 metric q_loss = 0.28510191805660723\n",
      "updated best with f1 = 0.8952529862510625\n",
      " ---- 13 metric test_eval_f1 = 0.8952529862510625\n",
      " ---- 13 metric test_eval_time = 7.485454545454545\n",
      " ---- 13 metric incorrect_ood_test = 0.012567324955116697\n",
      " ---- 14000 metric q_loss = 0.27698877681791784\n",
      " ---- 14 metric test_eval_f1 = 0.889998791390342\n",
      " ---- 14 metric test_eval_time = 7.018115942028985\n",
      " ---- 14 metric incorrect_ood_test = 0.008976660682226212\n",
      " ---- 7 metric train_eval_f1 = 0.8765834246630699\n",
      " ---- 7 metric train_eval_time = 7.379263301500682\n",
      " ---- 7 metric incorrect_ood_train = 0.013016157989228007\n",
      " ---- 15000 metric q_loss = 0.2646396844685078\n",
      " ---- 15 metric test_eval_f1 = 0.8905621852041211\n",
      " ---- 15 metric test_eval_time = 6.4\n",
      " ---- 15 metric incorrect_ood_test = 0.003590664272890485\n",
      " ---- 16000 metric q_loss = 0.25321627157181503\n",
      "updated best with f1 = 0.9008242637879121\n",
      " ---- 16 metric test_eval_f1 = 0.9008242637879121\n",
      " ---- 16 metric test_eval_time = 7.001818181818182\n",
      " ---- 16 metric incorrect_ood_test = 0.012567324955116697\n",
      " ---- 8 metric train_eval_f1 = 0.8870037352500357\n",
      " ---- 8 metric train_eval_time = 7.627504553734062\n",
      " ---- 8 metric incorrect_ood_train = 0.01436265709156194\n",
      " ---- 17000 metric q_loss = 0.23759994800388812\n",
      "updated best with f1 = 0.9033656467629081\n",
      " ---- 17 metric test_eval_f1 = 0.9033656467629081\n",
      " ---- 17 metric test_eval_time = 6.055855855855856\n",
      " ---- 17 metric incorrect_ood_test = 0.003590664272890485\n",
      " ---- 18000 metric q_loss = 0.22647970477491616\n",
      " ---- 18 metric test_eval_f1 = 0.8886850042426723\n",
      " ---- 18 metric test_eval_time = 6.674502712477396\n",
      " ---- 18 metric incorrect_ood_test = 0.00718132854578097\n",
      " ---- 9 metric train_eval_f1 = 0.8768865566288658\n",
      " ---- 9 metric train_eval_time = 7.361035422343324\n",
      " ---- 9 metric incorrect_ood_train = 0.011669658886894075\n",
      " ---- 19000 metric q_loss = 0.21304327581077814\n",
      "updated best with f1 = 0.9035040831752938\n",
      " ---- 19 metric test_eval_f1 = 0.9035040831752938\n",
      " ---- 19 metric test_eval_time = 8.256317689530686\n",
      " ---- 19 metric incorrect_ood_test = 0.005385996409335727\n",
      " ---- 20000 metric q_loss = 0.20542298986017704\n",
      " ---- 20 metric test_eval_f1 = 0.9034531775875833\n",
      " ---- 20 metric test_eval_time = 6.417721518987341\n",
      " ---- 20 metric incorrect_ood_test = 0.00718132854578097\n",
      " ---- 10 metric train_eval_f1 = 0.8941349550706246\n",
      " ---- 10 metric train_eval_time = 7.190195188379483\n",
      " ---- 10 metric incorrect_ood_train = 0.011220825852782765\n",
      " ---- 21000 metric q_loss = 0.19742763560265303\n",
      " ---- 21 metric test_eval_f1 = 0.8859226609464382\n",
      " ---- 21 metric test_eval_time = 6.236363636363636\n",
      " ---- 21 metric incorrect_ood_test = 0.012567324955116697\n",
      " ---- 22000 metric q_loss = 0.17864612890034914\n",
      " ---- 22 metric test_eval_f1 = 0.9011890978795428\n",
      " ---- 22 metric test_eval_time = 6.406193078324226\n",
      " ---- 22 metric incorrect_ood_test = 0.01436265709156194\n",
      " ---- 11 metric train_eval_f1 = 0.9032286845687214\n",
      " ---- 11 metric train_eval_time = 7.191343963553531\n",
      " ---- 11 metric incorrect_ood_train = 0.01481149012567325\n",
      " ---- 23000 metric q_loss = 0.1718478159159422\n",
      "updated best with f1 = 0.9132607691604496\n",
      " ---- 23 metric test_eval_f1 = 0.9132607691604496\n",
      " ---- 23 metric test_eval_time = 7.485401459854015\n",
      " ---- 23 metric incorrect_ood_test = 0.01615798922800718\n",
      " ---- 24000 metric q_loss = 0.1673677262291312\n",
      " ---- 24 metric test_eval_f1 = 0.906647842955001\n",
      " ---- 24 metric test_eval_time = 6.636363636363637\n",
      " ---- 24 metric incorrect_ood_test = 0.012567324955116697\n",
      " ---- 12 metric train_eval_f1 = 0.9092949600002116\n",
      " ---- 12 metric train_eval_time = 7.652713891444343\n",
      " ---- 12 metric incorrect_ood_train = 0.02423698384201077\n",
      " ---- 25000 metric q_loss = 0.16116070592030882\n",
      " ---- 25 metric test_eval_f1 = 0.9084091654964176\n",
      " ---- 25 metric test_eval_time = 6.926739926739927\n",
      " ---- 25 metric incorrect_ood_test = 0.019748653500897665\n",
      " ---- 26000 metric q_loss = 0.1476289254128933\n",
      " ---- 26 metric test_eval_f1 = 0.9061699548226259\n",
      " ---- 26 metric test_eval_time = 7.069216757741348\n",
      " ---- 26 metric incorrect_ood_test = 0.01436265709156194\n",
      " ---- 13 metric train_eval_f1 = 0.892742346623565\n",
      " ---- 13 metric train_eval_time = 8.193370165745856\n",
      " ---- 13 metric incorrect_ood_train = 0.025134649910233394\n",
      " ---- 27000 metric q_loss = 0.1518927338644862\n",
      "updated best with f1 = 0.9218077449722977\n",
      " ---- 27 metric test_eval_f1 = 0.9218077449722977\n",
      " ---- 27 metric test_eval_time = 7.435897435897436\n",
      " ---- 27 metric incorrect_ood_test = 0.019748653500897665\n",
      " ---- 28000 metric q_loss = 0.14269054179638624\n",
      " ---- 28 metric test_eval_f1 = 0.8804556180061717\n",
      " ---- 28 metric test_eval_time = 8.14051094890511\n",
      " ---- 28 metric incorrect_ood_test = 0.01615798922800718\n",
      " ---- 14 metric train_eval_f1 = 0.8894909754720943\n",
      " ---- 14 metric train_eval_time = 9.080147397512667\n",
      " ---- 14 metric incorrect_ood_train = 0.025583482944344704\n",
      " ---- 29000 metric q_loss = 0.14429392389953136\n",
      " ---- 29 metric test_eval_f1 = 0.8912456939733964\n",
      " ---- 29 metric test_eval_time = 6.521100917431193\n",
      " ---- 29 metric incorrect_ood_test = 0.02154398563734291\n",
      " ---- 30000 metric q_loss = 0.13486120592430234\n",
      " ---- 30 metric test_eval_f1 = 0.9032761904543015\n",
      " ---- 30 metric test_eval_time = 7.097247706422018\n",
      " ---- 30 metric incorrect_ood_test = 0.02154398563734291\n",
      " ---- 15 metric train_eval_f1 = 0.9093181413185226\n",
      " ---- 15 metric train_eval_time = 7.956581352833638\n",
      " ---- 15 metric incorrect_ood_train = 0.017953321364452424\n",
      " ---- 31000 metric q_loss = 0.12806438853219151\n",
      " ---- 31 metric test_eval_f1 = 0.8851469216974387\n",
      " ---- 31 metric test_eval_time = 6.052252252252252\n",
      " ---- 31 metric incorrect_ood_test = 0.003590664272890485\n",
      " ---- 32000 metric q_loss = 0.1335257555451244\n",
      " ---- 32 metric test_eval_f1 = 0.9189359107947471\n",
      " ---- 32 metric test_eval_time = 6.494485294117647\n",
      " ---- 32 metric incorrect_ood_test = 0.02333931777378815\n",
      " ---- 16 metric train_eval_f1 = 0.9004330477029937\n",
      " ---- 16 metric train_eval_time = 7.633086876155268\n",
      " ---- 16 metric incorrect_ood_train = 0.02872531418312388\n",
      " ---- 33000 metric q_loss = 0.12882727954722942\n",
      " ---- 33 metric test_eval_f1 = 0.8873254747155466\n",
      " ---- 33 metric test_eval_time = 8.430127041742287\n",
      " ---- 33 metric incorrect_ood_test = 0.010771992818671455\n",
      " ---- 34000 metric q_loss = 0.12049173569306731\n",
      " ---- 34 metric test_eval_f1 = 0.9048886383760626\n",
      " ---- 34 metric test_eval_time = 7.090909090909091\n",
      " ---- 34 metric incorrect_ood_test = 0.012567324955116697\n",
      " ---- 17 metric train_eval_f1 = 0.9003841882266332\n",
      " ---- 17 metric train_eval_time = 7.89945155393053\n",
      " ---- 17 metric incorrect_ood_train = 0.017953321364452424\n",
      " ---- 35000 metric q_loss = 0.11944909722357988\n",
      " ---- 35 metric test_eval_f1 = 0.8734250126729712\n",
      " ---- 35 metric test_eval_time = 6.6\n",
      " ---- 35 metric incorrect_ood_test = 0.003590664272890485\n",
      " ---- 36000 metric q_loss = 0.117883996816352\n",
      " ---- 36 metric test_eval_f1 = 0.8883132879828229\n",
      " ---- 36 metric test_eval_time = 7.129963898916968\n",
      " ---- 36 metric incorrect_ood_test = 0.005385996409335727\n",
      " ---- 18 metric train_eval_f1 = 0.8932394549390302\n",
      " ---- 18 metric train_eval_time = 7.9003200731595795\n",
      " ---- 18 metric incorrect_ood_train = 0.018402154398563735\n",
      " ---- 37000 metric q_loss = 0.12051370618864894\n",
      " ---- 37 metric test_eval_f1 = 0.8889798421790008\n",
      " ---- 37 metric test_eval_time = 6.134545454545455\n",
      " ---- 37 metric incorrect_ood_test = 0.012567324955116697\n",
      " ---- 38000 metric q_loss = 0.10976081484928728\n",
      " ---- 38 metric test_eval_f1 = 0.8976607587905965\n",
      " ---- 38 metric test_eval_time = 6.918918918918919\n",
      " ---- 38 metric incorrect_ood_test = 0.003590664272890485\n",
      " ---- 19 metric train_eval_f1 = 0.8801211791125855\n",
      " ---- 19 metric train_eval_time = 8.05901044030867\n",
      " ---- 19 metric incorrect_ood_train = 0.011220825852782765\n",
      " ---- 39000 metric q_loss = 0.10990568216331303\n",
      " ---- 39 metric test_eval_f1 = 0.8932083801569574\n",
      " ---- 39 metric test_eval_time = 7.01981981981982\n",
      " ---- 39 metric incorrect_ood_test = 0.003590664272890485\n",
      " ---- 40000 metric q_loss = 0.12298315284959972\n",
      " ---- 40 metric test_eval_f1 = 0.8659080677448753\n",
      " ---- 40 metric test_eval_time = 5.66546762589928\n",
      " ---- 40 metric incorrect_ood_test = 0.0017953321364452424\n",
      " ---- 20 metric train_eval_f1 = 0.869230342702102\n",
      " ---- 20 metric train_eval_time = 6.495901639344262\n",
      " ---- 20 metric incorrect_ood_train = 0.01436265709156194\n",
      " ---- 41000 metric q_loss = 0.10717200879566371\n",
      " ---- 41 metric test_eval_f1 = 0.8726941226941227\n",
      " ---- 41 metric test_eval_time = 5.990974729241877\n",
      " ---- 41 metric incorrect_ood_test = 0.005385996409335727\n",
      " ---- 42000 metric q_loss = 0.10412181376107037\n",
      " ---- 42 metric test_eval_f1 = 0.88631288315451\n",
      " ---- 42 metric test_eval_time = 6.104504504504504\n",
      " ---- 42 metric incorrect_ood_test = 0.003590664272890485\n",
      " ---- 21 metric train_eval_f1 = 0.8664121853372674\n",
      " ---- 21 metric train_eval_time = 7.16492503407542\n",
      " ---- 21 metric incorrect_ood_train = 0.012118491921005385\n",
      " ---- 43000 metric q_loss = 0.10255411782301962\n",
      " ---- 43 metric test_eval_f1 = 0.8892101221855938\n",
      " ---- 43 metric test_eval_time = 6.954379562043796\n",
      " ---- 43 metric incorrect_ood_test = 0.01615798922800718\n",
      " ---- 44000 metric q_loss = 0.10667859047092497\n",
      " ---- 44 metric test_eval_f1 = 0.8821450224500428\n",
      " ---- 44 metric test_eval_time = 5.9135135135135135\n",
      " ---- 44 metric incorrect_ood_test = 0.003590664272890485\n",
      " ---- 22 metric train_eval_f1 = 0.8706552816567259\n",
      " ---- 22 metric train_eval_time = 6.893461362597165\n",
      " ---- 22 metric incorrect_ood_train = 0.018402154398563735\n",
      " ---- 45000 metric q_loss = 0.10304792127758265\n",
      " ---- 45 metric test_eval_f1 = 0.8933345038693428\n",
      " ---- 45 metric test_eval_time = 7.203237410071942\n",
      " ---- 45 metric incorrect_ood_test = 0.0017953321364452424\n",
      " ---- 46000 metric q_loss = 0.10402851119451224\n",
      " ---- 46 metric test_eval_f1 = 0.8740713012477718\n",
      " ---- 46 metric test_eval_time = 5.78096947935368\n",
      " ---- 46 metric incorrect_ood_test = 0.0\n",
      " ---- 23 metric train_eval_f1 = 0.8707114122775677\n",
      " ---- 23 metric train_eval_time = 6.618896925858952\n",
      " ---- 23 metric incorrect_ood_train = 0.00718132854578097\n",
      " ---- 47000 metric q_loss = 0.09418950472027063\n",
      " ---- 47 metric test_eval_f1 = 0.8717896454309851\n",
      " ---- 47 metric test_eval_time = 6.6394927536231885\n",
      " ---- 47 metric incorrect_ood_test = 0.008976660682226212\n",
      " ---- 48000 metric q_loss = 0.09636732095852495\n",
      " ---- 48 metric test_eval_f1 = 0.8812306739190774\n",
      " ---- 48 metric test_eval_time = 6.596050269299821\n",
      " ---- 48 metric incorrect_ood_test = 0.0\n",
      " ---- 24 metric train_eval_f1 = 0.8751381041991536\n",
      " ---- 24 metric train_eval_time = 7.366197183098592\n",
      " ---- 24 metric incorrect_ood_train = 0.012118491921005385\n",
      " ---- 49000 metric q_loss = 0.09925547570548951\n",
      " ---- 49 metric test_eval_f1 = 0.8927406847748118\n",
      " ---- 49 metric test_eval_time = 7.127468581687612\n",
      " ---- 49 metric incorrect_ood_test = 0.0\n",
      " ---- 50000 metric q_loss = 0.09907523048296571\n",
      " ---- 50 metric test_eval_f1 = 0.8865030059857053\n",
      " ---- 50 metric test_eval_time = 6.078994614003591\n",
      " ---- 50 metric incorrect_ood_test = 0.0\n",
      " ---- 25 metric train_eval_f1 = 0.878467681715728\n",
      " ---- 25 metric train_eval_time = 6.759090909090909\n",
      " ---- 25 metric incorrect_ood_train = 0.012567324955116697\n"
     ]
    },
    {
     "ename": "KeyboardInterrupt",
     "evalue": "",
     "output_type": "error",
     "traceback": [
      "\u001b[0;31m---------------------------------------------------------------------------\u001b[0m",
      "\u001b[0;31mKeyboardInterrupt\u001b[0m                         Traceback (most recent call last)",
      "Cell \u001b[0;32mIn[4], line 1\u001b[0m\n\u001b[0;32m----> 1\u001b[0m \u001b[43mtrainer\u001b[49m\u001b[38;5;241;43m.\u001b[39;49m\u001b[43mstart\u001b[49m\u001b[43m(\u001b[49m\u001b[43m)\u001b[49m\n",
      "File \u001b[0;32m~/Desktop/UNSW/flowprintOptimal/sekigo/train.py:45\u001b[0m, in \u001b[0;36mTrainer.start\u001b[0;34m(self)\u001b[0m\n\u001b[1;32m     43\u001b[0m train_dataset,test_dataset,ood_dataset \u001b[38;5;241m=\u001b[39m \u001b[38;5;28mself\u001b[39m\u001b[38;5;241m.\u001b[39mgetDatasets(\u001b[38;5;241m*\u001b[39m\u001b[38;5;241m*\u001b[39m\u001b[38;5;28mself\u001b[39m\u001b[38;5;241m.\u001b[39mgetFlows())\n\u001b[1;32m     44\u001b[0m \u001b[38;5;28mprint\u001b[39m(\u001b[38;5;124m\"\u001b[39m\u001b[38;5;124mGot datasets\u001b[39m\u001b[38;5;124m\"\u001b[39m)\n\u001b[0;32m---> 45\u001b[0m \u001b[38;5;28;43mself\u001b[39;49m\u001b[38;5;241;43m.\u001b[39;49m\u001b[43mtrain\u001b[49m\u001b[43m(\u001b[49m\u001b[43mtrain_dataset\u001b[49m\u001b[38;5;241;43m=\u001b[39;49m\u001b[43m \u001b[49m\u001b[43mtrain_dataset\u001b[49m\u001b[43m,\u001b[49m\u001b[43m \u001b[49m\u001b[43mtest_dataset\u001b[49m\u001b[38;5;241;43m=\u001b[39;49m\u001b[43m \u001b[49m\u001b[43mtest_dataset\u001b[49m\u001b[43m,\u001b[49m\u001b[43m \u001b[49m\u001b[43mood_dataset\u001b[49m\u001b[38;5;241;43m=\u001b[39;49m\u001b[43m \u001b[49m\u001b[43mood_dataset\u001b[49m\u001b[43m)\u001b[49m\n",
      "File \u001b[0;32m~/Desktop/UNSW/flowprintOptimal/sekigo/train.py:78\u001b[0m, in \u001b[0;36mTrainer.train\u001b[0;34m(self, train_dataset, test_dataset, ood_dataset)\u001b[0m\n\u001b[1;32m     72\u001b[0m \u001b[38;5;28mprint\u001b[39m(pd\u001b[38;5;241m.\u001b[39mSeries(labels)\u001b[38;5;241m.\u001b[39mvalue_counts())\n\u001b[1;32m     74\u001b[0m \u001b[38;5;28mself\u001b[39m\u001b[38;5;241m.\u001b[39mddq_model \u001b[38;5;241m=\u001b[39m EarlyClassificationtrainer(predictor\u001b[38;5;241m=\u001b[39m predictor,train_dataset \u001b[38;5;241m=\u001b[39m train_dataset,test_dataset\u001b[38;5;241m=\u001b[39m test_dataset,memory_dataset\u001b[38;5;241m=\u001b[39m memory_dataset,\n\u001b[1;32m     75\u001b[0m                                ood_dataset\u001b[38;5;241m=\u001b[39m ood_dataset,use_sampler\u001b[38;5;241m=\u001b[39m \u001b[38;5;28mself\u001b[39m\u001b[38;5;241m.\u001b[39mconfigs[\u001b[38;5;124m\"\u001b[39m\u001b[38;5;124mearly_trainer_config\u001b[39m\u001b[38;5;124m\"\u001b[39m][\u001b[38;5;124m\"\u001b[39m\u001b[38;5;124muse_sampler\u001b[39m\u001b[38;5;124m\"\u001b[39m],\n\u001b[1;32m     76\u001b[0m                                logger\u001b[38;5;241m=\u001b[39m logger,device\u001b[38;5;241m=\u001b[39mdevice,model_replacement_steps\u001b[38;5;241m=\u001b[39m \u001b[38;5;241m500\u001b[39m)\n\u001b[0;32m---> 78\u001b[0m \u001b[38;5;28;43mself\u001b[39;49m\u001b[38;5;241;43m.\u001b[39;49m\u001b[43mddq_model\u001b[49m\u001b[38;5;241;43m.\u001b[39;49m\u001b[43mtrain\u001b[49m\u001b[43m(\u001b[49m\u001b[43mepochs\u001b[49m\u001b[38;5;241;43m=\u001b[39;49m\u001b[43m \u001b[49m\u001b[38;5;241;43m20\u001b[39;49m\u001b[43m,\u001b[49m\u001b[43mbatch_size\u001b[49m\u001b[38;5;241;43m=\u001b[39;49m\u001b[43m \u001b[49m\u001b[38;5;241;43m128\u001b[39;49m\u001b[43m,\u001b[49m\u001b[43mlr\u001b[49m\u001b[38;5;241;43m=\u001b[39;49m\u001b[43m \u001b[49m\u001b[38;5;241;43m.0003\u001b[39;49m\u001b[43m,\u001b[49m\u001b[43mlam\u001b[49m\u001b[38;5;241;43m=\u001b[39;49m\u001b[43m \u001b[49m\u001b[38;5;241;43m.99\u001b[39;49m\u001b[43m)\u001b[49m\n",
      "File \u001b[0;32m~/Desktop/UNSW/flowprintOptimal/sekigo/earlyClassification/DQL/trainers.py:185\u001b[0m, in \u001b[0;36mEarlyClassificationtrainer.train\u001b[0;34m(self, epochs, batch_size, lr, lam)\u001b[0m\n\u001b[1;32m    182\u001b[0m steps \u001b[38;5;241m=\u001b[39m \u001b[38;5;241m0\u001b[39m\n\u001b[1;32m    184\u001b[0m \u001b[38;5;28;01mfor\u001b[39;00m epoch \u001b[38;5;129;01min\u001b[39;00m \u001b[38;5;28mrange\u001b[39m(epochs):\n\u001b[0;32m--> 185\u001b[0m     \u001b[38;5;28;01mfor\u001b[39;00m batch \u001b[38;5;129;01min\u001b[39;00m train_dataloader:\n\u001b[1;32m    186\u001b[0m         \u001b[38;5;28mself\u001b[39m\u001b[38;5;241m.\u001b[39mtrainStep(steps \u001b[38;5;241m=\u001b[39m steps,batch\u001b[38;5;241m=\u001b[39m batch,lam\u001b[38;5;241m=\u001b[39m lam, predictor_optimizer\u001b[38;5;241m=\u001b[39m predictor_optimizer)\n\u001b[1;32m    187\u001b[0m         steps \u001b[38;5;241m+\u001b[39m\u001b[38;5;241m=\u001b[39m \u001b[38;5;241m1\u001b[39m            \n",
      "File \u001b[0;32m~/.local/lib/python3.10/site-packages/torch/utils/data/dataloader.py:631\u001b[0m, in \u001b[0;36m_BaseDataLoaderIter.__next__\u001b[0;34m(self)\u001b[0m\n\u001b[1;32m    628\u001b[0m \u001b[38;5;28;01mif\u001b[39;00m \u001b[38;5;28mself\u001b[39m\u001b[38;5;241m.\u001b[39m_sampler_iter \u001b[38;5;129;01mis\u001b[39;00m \u001b[38;5;28;01mNone\u001b[39;00m:\n\u001b[1;32m    629\u001b[0m     \u001b[38;5;66;03m# TODO(https://github.com/pytorch/pytorch/issues/76750)\u001b[39;00m\n\u001b[1;32m    630\u001b[0m     \u001b[38;5;28mself\u001b[39m\u001b[38;5;241m.\u001b[39m_reset()  \u001b[38;5;66;03m# type: ignore[call-arg]\u001b[39;00m\n\u001b[0;32m--> 631\u001b[0m data \u001b[38;5;241m=\u001b[39m \u001b[38;5;28;43mself\u001b[39;49m\u001b[38;5;241;43m.\u001b[39;49m\u001b[43m_next_data\u001b[49m\u001b[43m(\u001b[49m\u001b[43m)\u001b[49m\n\u001b[1;32m    632\u001b[0m \u001b[38;5;28mself\u001b[39m\u001b[38;5;241m.\u001b[39m_num_yielded \u001b[38;5;241m+\u001b[39m\u001b[38;5;241m=\u001b[39m \u001b[38;5;241m1\u001b[39m\n\u001b[1;32m    633\u001b[0m \u001b[38;5;28;01mif\u001b[39;00m \u001b[38;5;28mself\u001b[39m\u001b[38;5;241m.\u001b[39m_dataset_kind \u001b[38;5;241m==\u001b[39m _DatasetKind\u001b[38;5;241m.\u001b[39mIterable \u001b[38;5;129;01mand\u001b[39;00m \\\n\u001b[1;32m    634\u001b[0m         \u001b[38;5;28mself\u001b[39m\u001b[38;5;241m.\u001b[39m_IterableDataset_len_called \u001b[38;5;129;01mis\u001b[39;00m \u001b[38;5;129;01mnot\u001b[39;00m \u001b[38;5;28;01mNone\u001b[39;00m \u001b[38;5;129;01mand\u001b[39;00m \\\n\u001b[1;32m    635\u001b[0m         \u001b[38;5;28mself\u001b[39m\u001b[38;5;241m.\u001b[39m_num_yielded \u001b[38;5;241m>\u001b[39m \u001b[38;5;28mself\u001b[39m\u001b[38;5;241m.\u001b[39m_IterableDataset_len_called:\n",
      "File \u001b[0;32m~/.local/lib/python3.10/site-packages/torch/utils/data/dataloader.py:675\u001b[0m, in \u001b[0;36m_SingleProcessDataLoaderIter._next_data\u001b[0;34m(self)\u001b[0m\n\u001b[1;32m    673\u001b[0m \u001b[38;5;28;01mdef\u001b[39;00m \u001b[38;5;21m_next_data\u001b[39m(\u001b[38;5;28mself\u001b[39m):\n\u001b[1;32m    674\u001b[0m     index \u001b[38;5;241m=\u001b[39m \u001b[38;5;28mself\u001b[39m\u001b[38;5;241m.\u001b[39m_next_index()  \u001b[38;5;66;03m# may raise StopIteration\u001b[39;00m\n\u001b[0;32m--> 675\u001b[0m     data \u001b[38;5;241m=\u001b[39m \u001b[38;5;28;43mself\u001b[39;49m\u001b[38;5;241;43m.\u001b[39;49m\u001b[43m_dataset_fetcher\u001b[49m\u001b[38;5;241;43m.\u001b[39;49m\u001b[43mfetch\u001b[49m\u001b[43m(\u001b[49m\u001b[43mindex\u001b[49m\u001b[43m)\u001b[49m  \u001b[38;5;66;03m# may raise StopIteration\u001b[39;00m\n\u001b[1;32m    676\u001b[0m     \u001b[38;5;28;01mif\u001b[39;00m \u001b[38;5;28mself\u001b[39m\u001b[38;5;241m.\u001b[39m_pin_memory:\n\u001b[1;32m    677\u001b[0m         data \u001b[38;5;241m=\u001b[39m _utils\u001b[38;5;241m.\u001b[39mpin_memory\u001b[38;5;241m.\u001b[39mpin_memory(data, \u001b[38;5;28mself\u001b[39m\u001b[38;5;241m.\u001b[39m_pin_memory_device)\n",
      "File \u001b[0;32m~/.local/lib/python3.10/site-packages/torch/utils/data/_utils/fetch.py:54\u001b[0m, in \u001b[0;36m_MapDatasetFetcher.fetch\u001b[0;34m(self, possibly_batched_index)\u001b[0m\n\u001b[1;32m     52\u001b[0m \u001b[38;5;28;01melse\u001b[39;00m:\n\u001b[1;32m     53\u001b[0m     data \u001b[38;5;241m=\u001b[39m \u001b[38;5;28mself\u001b[39m\u001b[38;5;241m.\u001b[39mdataset[possibly_batched_index]\n\u001b[0;32m---> 54\u001b[0m \u001b[38;5;28;01mreturn\u001b[39;00m \u001b[38;5;28;43mself\u001b[39;49m\u001b[38;5;241;43m.\u001b[39;49m\u001b[43mcollate_fn\u001b[49m\u001b[43m(\u001b[49m\u001b[43mdata\u001b[49m\u001b[43m)\u001b[49m\n",
      "File \u001b[0;32m~/Desktop/UNSW/flowprintOptimal/sekigo/earlyClassification/DQL/datasets.py:49\u001b[0m, in \u001b[0;36mMemoryDataset.collateFn\u001b[0;34m(batch)\u001b[0m\n\u001b[1;32m     46\u001b[0m \u001b[38;5;129m@staticmethod\u001b[39m\n\u001b[1;32m     47\u001b[0m \u001b[38;5;28;01mdef\u001b[39;00m \u001b[38;5;21mcollateFn\u001b[39m(batch):   \n\u001b[1;32m     48\u001b[0m     state \u001b[38;5;241m=\u001b[39m \u001b[38;5;28mlist\u001b[39m(\u001b[38;5;28mmap\u001b[39m(\u001b[38;5;28;01mlambda\u001b[39;00m x : torch\u001b[38;5;241m.\u001b[39mtensor(x[\u001b[38;5;124m\"\u001b[39m\u001b[38;5;124mstate\u001b[39m\u001b[38;5;124m\"\u001b[39m])\u001b[38;5;241m.\u001b[39mfloat(),batch ))\n\u001b[0;32m---> 49\u001b[0m     next_state \u001b[38;5;241m=\u001b[39m \u001b[38;5;28;43mlist\u001b[39;49m\u001b[43m(\u001b[49m\u001b[38;5;28;43mmap\u001b[39;49m\u001b[43m(\u001b[49m\u001b[38;5;28;43;01mlambda\u001b[39;49;00m\u001b[43m \u001b[49m\u001b[43mx\u001b[49m\u001b[43m \u001b[49m\u001b[43m:\u001b[49m\u001b[43m \u001b[49m\u001b[43mtorch\u001b[49m\u001b[38;5;241;43m.\u001b[39;49m\u001b[43mtensor\u001b[49m\u001b[43m(\u001b[49m\u001b[43mx\u001b[49m\u001b[43m[\u001b[49m\u001b[38;5;124;43m\"\u001b[39;49m\u001b[38;5;124;43mnext_state\u001b[39;49m\u001b[38;5;124;43m\"\u001b[39;49m\u001b[43m]\u001b[49m\u001b[43m)\u001b[49m\u001b[38;5;241;43m.\u001b[39;49m\u001b[43mfloat\u001b[49m\u001b[43m(\u001b[49m\u001b[43m)\u001b[49m\u001b[43m,\u001b[49m\u001b[43m \u001b[49m\u001b[43mbatch\u001b[49m\u001b[43m)\u001b[49m\u001b[43m)\u001b[49m\n\u001b[1;32m     51\u001b[0m     state \u001b[38;5;241m=\u001b[39m pack_sequence(state,enforce_sorted\u001b[38;5;241m=\u001b[39m \u001b[38;5;28;01mFalse\u001b[39;00m)\n\u001b[1;32m     52\u001b[0m     next_state \u001b[38;5;241m=\u001b[39m pack_sequence(next_state,enforce_sorted\u001b[38;5;241m=\u001b[39m \u001b[38;5;28;01mFalse\u001b[39;00m)\n",
      "File \u001b[0;32m~/Desktop/UNSW/flowprintOptimal/sekigo/earlyClassification/DQL/datasets.py:49\u001b[0m, in \u001b[0;36mMemoryDataset.collateFn.<locals>.<lambda>\u001b[0;34m(x)\u001b[0m\n\u001b[1;32m     46\u001b[0m \u001b[38;5;129m@staticmethod\u001b[39m\n\u001b[1;32m     47\u001b[0m \u001b[38;5;28;01mdef\u001b[39;00m \u001b[38;5;21mcollateFn\u001b[39m(batch):   \n\u001b[1;32m     48\u001b[0m     state \u001b[38;5;241m=\u001b[39m \u001b[38;5;28mlist\u001b[39m(\u001b[38;5;28mmap\u001b[39m(\u001b[38;5;28;01mlambda\u001b[39;00m x : torch\u001b[38;5;241m.\u001b[39mtensor(x[\u001b[38;5;124m\"\u001b[39m\u001b[38;5;124mstate\u001b[39m\u001b[38;5;124m\"\u001b[39m])\u001b[38;5;241m.\u001b[39mfloat(),batch ))\n\u001b[0;32m---> 49\u001b[0m     next_state \u001b[38;5;241m=\u001b[39m \u001b[38;5;28mlist\u001b[39m(\u001b[38;5;28mmap\u001b[39m(\u001b[38;5;28;01mlambda\u001b[39;00m x : \u001b[43mtorch\u001b[49m\u001b[38;5;241;43m.\u001b[39;49m\u001b[43mtensor\u001b[49m\u001b[43m(\u001b[49m\u001b[43mx\u001b[49m\u001b[43m[\u001b[49m\u001b[38;5;124;43m\"\u001b[39;49m\u001b[38;5;124;43mnext_state\u001b[39;49m\u001b[38;5;124;43m\"\u001b[39;49m\u001b[43m]\u001b[49m\u001b[43m)\u001b[49m\u001b[38;5;241;43m.\u001b[39;49m\u001b[43mfloat\u001b[49m\u001b[43m(\u001b[49m\u001b[43m)\u001b[49m, batch))\n\u001b[1;32m     51\u001b[0m     state \u001b[38;5;241m=\u001b[39m pack_sequence(state,enforce_sorted\u001b[38;5;241m=\u001b[39m \u001b[38;5;28;01mFalse\u001b[39;00m)\n\u001b[1;32m     52\u001b[0m     next_state \u001b[38;5;241m=\u001b[39m pack_sequence(next_state,enforce_sorted\u001b[38;5;241m=\u001b[39m \u001b[38;5;28;01mFalse\u001b[39;00m)\n",
      "\u001b[0;31mKeyboardInterrupt\u001b[0m: "
     ]
    }
   ],
   "source": [
    "trainer.start()"
   ]
  },
  {
   "cell_type": "code",
   "execution_count": 5,
   "metadata": {},
   "outputs": [
    {
     "data": {
      "text/plain": [
       "0.9218077449722977"
      ]
     },
     "execution_count": 5,
     "metadata": {},
     "output_type": "execute_result"
    }
   ],
   "source": [
    "trainer.ddq_model.best[\"score\"]"
   ]
  },
  {
   "cell_type": "code",
   "execution_count": null,
   "metadata": {},
   "outputs": [],
   "source": [
    "documentor = Documenter(train_dataset= trainer.train_dataset,test_dataset= trainer.test_dataset, ood_dataset = trainer.ood_dataset,full_model= trainer.ddq_model.best[\"model\"], early_model= trainer.ddq_model.best[\"model\"],\n",
    "                        configs= configs\n",
    "                        )\n",
    "documentor.document(name= configs[\"name\"])"
   ]
  },
  {
   "cell_type": "code",
   "execution_count": 10,
   "metadata": {},
   "outputs": [
    {
     "name": "stdout",
     "output_type": "stream",
     "text": [
      "Loading dummy full model\n"
     ]
    }
   ],
   "source": [
    "documentor = Documenter.load(\"deployment_sm\")"
   ]
  },
  {
   "cell_type": "code",
   "execution_count": 11,
   "metadata": {},
   "outputs": [
    {
     "data": {
      "text/plain": [
       "416"
      ]
     },
     "execution_count": 11,
     "metadata": {},
     "output_type": "execute_result"
    }
   ],
   "source": [
    "test_dataset = documentor.test_dataset\n",
    "len(test_dataset)"
   ]
  },
  {
   "cell_type": "code",
   "execution_count": 12,
   "metadata": {},
   "outputs": [],
   "source": [
    "eval = EarlyEvaluation(min_steps= 1,device= device,model= documentor.early_model).getMetrices(dataset= documentor.test_dataset,ood_dataset= documentor.ood_dataset)"
   ]
  },
  {
   "cell_type": "code",
   "execution_count": 13,
   "metadata": {},
   "outputs": [
    {
     "data": {
      "text/plain": [
       "array([[ 13,   4,   0,   1,   0,   9],\n",
       "       [  4,  38,   3,   4,   1,   5],\n",
       "       [  0,   3,  38,   0,   0,   3],\n",
       "       [  5,   1,   3, 147,  13,  10],\n",
       "       [  0,   0,   0,  25,  24,   0],\n",
       "       [ 10,   5,   3,   1,   0,  42]])"
      ]
     },
     "execution_count": 13,
     "metadata": {},
     "output_type": "execute_result"
    }
   ],
   "source": [
    "eval[\"cm\"]"
   ]
  },
  {
   "cell_type": "code",
   "execution_count": 14,
   "metadata": {},
   "outputs": [
    {
     "data": {
      "text/plain": [
       "{'micro_f1': 0.727710843373494,\n",
       " 'macro_f1': 0.6690385548652649,\n",
       " 'accuracy': 0.727710843373494,\n",
       " 'cm': array([[ 13,   4,   0,   1,   0,   9],\n",
       "        [  4,  38,   3,   4,   1,   5],\n",
       "        [  0,   3,  38,   0,   0,   3],\n",
       "        [  5,   1,   3, 147,  13,  10],\n",
       "        [  0,   0,   0,  25,  24,   0],\n",
       "        [ 10,   5,   3,   1,   0,  42]]),\n",
       " 'per_class_f1': array([0.44067797, 0.71698113, 0.83516484, 0.82352941, 0.55172414,\n",
       "        0.64615385]),\n",
       " 'time': 9.602409638554217,\n",
       " 'time_std': 5.129033256418724,\n",
       " 'incorrect_ood': 0.002403846153846154}"
      ]
     },
     "execution_count": 14,
     "metadata": {},
     "output_type": "execute_result"
    }
   ],
   "source": [
    "eval"
   ]
  },
  {
   "cell_type": "code",
   "execution_count": 15,
   "metadata": {},
   "outputs": [
    {
     "name": "stdout",
     "output_type": "stream",
     "text": [
      "{'Twitter': 0, 'LinkedIn': 1, 'TikTok': 2, 'Facebook': 3, 'Instagram': 4, 'Reddit': 5}\n"
     ]
    },
    {
     "data": {
      "text/plain": [
       "array([0.48148148, 0.69090909, 0.86363636, 0.82122905, 0.48979592,\n",
       "       0.68852459])"
      ]
     },
     "execution_count": 15,
     "metadata": {},
     "output_type": "execute_result"
    }
   ],
   "source": [
    "matrix = eval[\"cm\"]\n",
    "print(documentor.test_dataset.label_to_index)\n",
    "matrix.diagonal()/matrix.sum(axis=1)"
   ]
  },
  {
   "cell_type": "code",
   "execution_count": 17,
   "metadata": {},
   "outputs": [
    {
     "data": {
      "text/plain": [
       "{'micro_f1': 0.727710843373494,\n",
       " 'macro_f1': 0.6690385548652649,\n",
       " 'accuracy': 0.727710843373494,\n",
       " 'cm': array([[ 13,   4,   0,   1,   0,   9],\n",
       "        [  4,  38,   3,   4,   1,   5],\n",
       "        [  0,   3,  38,   0,   0,   3],\n",
       "        [  5,   1,   3, 147,  13,  10],\n",
       "        [  0,   0,   0,  25,  24,   0],\n",
       "        [ 10,   5,   3,   1,   0,  42]]),\n",
       " 'per_class_f1': array([0.44067797, 0.71698113, 0.83516484, 0.82352941, 0.55172414,\n",
       "        0.64615385]),\n",
       " 'time': 9.602409638554217,\n",
       " 'time_std': 5.129033256418724,\n",
       " 'incorrect_ood': 0.002403846153846154}"
      ]
     },
     "execution_count": 17,
     "metadata": {},
     "output_type": "execute_result"
    }
   ],
   "source": [
    "eval"
   ]
  },
  {
   "cell_type": "code",
   "execution_count": 18,
   "metadata": {},
   "outputs": [],
   "source": [
    "pred,packet_taken,labels = EarlyEvaluation(min_steps= 1,device= device,model= documentor.early_model).predictOnDataset(dataset= documentor.test_dataset)"
   ]
  },
  {
   "cell_type": "code",
   "execution_count": 19,
   "metadata": {},
   "outputs": [],
   "source": [
    "label_to_index = documentor.test_dataset.label_to_index"
   ]
  },
  {
   "cell_type": "code",
   "execution_count": 20,
   "metadata": {},
   "outputs": [
    {
     "name": "stdout",
     "output_type": "stream",
     "text": [
      "Twitter 0.0\n",
      "LinkedIn 0.0\n",
      "TikTok 0.0\n",
      "Facebook 0.005555555555555556\n",
      "Instagram 0.0\n",
      "Reddit 0.0\n"
     ]
    }
   ],
   "source": [
    "for name,index in label_to_index.items():\n",
    "    fpr = ((pred == -1)&(labels == index)).sum()/((labels == index).sum())\n",
    "    print(name, fpr)"
   ]
  },
  {
   "cell_type": "code",
   "execution_count": 21,
   "metadata": {},
   "outputs": [
    {
     "name": "stdout",
     "output_type": "stream",
     "text": [
      "Twitter 9.74074074074074 4.427126754810055\n",
      "LinkedIn 10.527272727272727 5.263440096827603\n",
      "TikTok 6.318181818181818 3.521187346702602\n",
      "Facebook 9.905555555555555 5.23205634337465\n",
      "Instagram 11.16326530612245 5.5745300480079285\n",
      "Reddit 9.098360655737705 4.622485734075414\n"
     ]
    }
   ],
   "source": [
    "for name,index in label_to_index.items():\n",
    "    t_label = packet_taken[labels == index]\n",
    "    print(name, t_label.mean(), t_label.std())"
   ]
  },
  {
   "cell_type": "code",
   "execution_count": 22,
   "metadata": {},
   "outputs": [],
   "source": [
    "import numpy as np\n",
    "from flowprintOptimal.sekigo.flowUtils.commons import dropPacketFromPacketRep, getTimeStampsFromIAT\n",
    "from joblib import Parallel, delayed"
   ]
  },
  {
   "cell_type": "code",
   "execution_count": 23,
   "metadata": {},
   "outputs": [],
   "source": [
    "dataset = documentor.test_dataset"
   ]
  },
  {
   "cell_type": "code",
   "execution_count": 24,
   "metadata": {},
   "outputs": [],
   "source": [
    "_,packet_taken,_ = EarlyEvaluation(min_steps= 1,device= device,model= documentor.early_model).predictOnDataset(dataset= dataset)"
   ]
  },
  {
   "cell_type": "code",
   "execution_count": 25,
   "metadata": {},
   "outputs": [],
   "source": [
    "IATs = [p.inter_arrival_times for p in dataset.flows]\n",
    "timestamps = Parallel(n_jobs=10)(delayed(getTimeStampsFromIAT)(iat) for iat in IATs)"
   ]
  },
  {
   "cell_type": "code",
   "execution_count": 26,
   "metadata": {},
   "outputs": [],
   "source": [
    "def convetPacketsTakenToTimeTaken(timestamps,packets_taken):\n",
    "    time_taken = []\n",
    "    for i in range(len(packets_taken)):\n",
    "        time_taken.append((timestamps[i][packets_taken[i] - 1] - timestamps[i][0]).total_seconds() )\n",
    "    \n",
    "    return np.array(time_taken)\n",
    "\n",
    "\n",
    "time_taken = convetPacketsTakenToTimeTaken(timestamps= timestamps, packets_taken= packet_taken)"
   ]
  },
  {
   "cell_type": "code",
   "execution_count": 27,
   "metadata": {},
   "outputs": [
    {
     "data": {
      "text/plain": [
       "(0.4023385432692308, 3.243947830354812)"
      ]
     },
     "execution_count": 27,
     "metadata": {},
     "output_type": "execute_result"
    }
   ],
   "source": [
    "time_taken.mean(), time_taken.std()"
   ]
  },
  {
   "cell_type": "code",
   "execution_count": 28,
   "metadata": {},
   "outputs": [
    {
     "name": "stdout",
     "output_type": "stream",
     "text": [
      "Twitter 2.948781851851852 10.342726184024174\n",
      "LinkedIn 0.27158380000000004 1.6295024286113442\n",
      "TikTok 0.13042127272727272 0.18921756672933696\n",
      "Facebook 0.06348779444444445 0.28307474590012244\n",
      "Instagram 0.29100461224489793 1.3902223097047497\n",
      "Reddit 0.6785745901639345 4.1041018335218915\n"
     ]
    }
   ],
   "source": [
    "for name,index in label_to_index.items():\n",
    "    t_label = time_taken[labels == index]\n",
    "    print(name, t_label.mean(), t_label.std())"
   ]
  },
  {
   "cell_type": "code",
   "execution_count": null,
   "metadata": {},
   "outputs": [],
   "source": []
  }
 ],
 "metadata": {
  "kernelspec": {
   "display_name": "Python 3",
   "language": "python",
   "name": "python3"
  },
  "language_info": {
   "codemirror_mode": {
    "name": "ipython",
    "version": 3
   },
   "file_extension": ".py",
   "mimetype": "text/x-python",
   "name": "python",
   "nbconvert_exporter": "python",
   "pygments_lexer": "ipython3",
   "version": "3.10.12"
  }
 },
 "nbformat": 4,
 "nbformat_minor": 2
}
