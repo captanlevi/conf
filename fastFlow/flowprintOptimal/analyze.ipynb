{
 "cells": [
  {
   "cell_type": "code",
   "execution_count": 1,
   "metadata": {},
   "outputs": [],
   "source": [
    "import pandas as pd\n",
    "import numpy as np\n",
    "from typing import List\n",
    "from sekigo.dataAnalysis.gamingDownloadDataFrameProcessor import GamingDownloadDataFrameProcessor\n",
    "from sekigo.dataAnalysis.baseDataFrameProcessor import BaseDataFrameProcessor\n",
    "from sekigo.dataAnalysis.softwareUpdateDataProcessor import SoftwareUpdateDataProcessor\n",
    "from sekigo.dataAnalysis.dataFrameExtractor import DataFrameExtractor\n",
    "from sekigo.core.flowRepresentation import FlowRepresentation\n",
    "from sekigo.core.featureExtractor import FeatureExtractor\n",
    "import matplotlib.pyplot as plt\n",
    "import sklearn"
   ]
  },
  {
   "cell_type": "code",
   "execution_count": 2,
   "metadata": {},
   "outputs": [
    {
     "name": "stdout",
     "output_type": "stream",
     "text": [
      "initial software update length = 72826\n",
      "final software update length = 36790\n",
      "initial software update length = 8046\n",
      "final software update length = 4967\n"
     ]
    }
   ],
   "source": [
    "data_processor_1 = SoftwareUpdateDataProcessor(parquet_path= \"./data/software-update-1w.parquet\")\n",
    "data_processor_2 = SoftwareUpdateDataProcessor(parquet_path= \"./data/software-update-flowprint.parquet\")\n",
    "data_processor_3 = GamingDownloadDataFrameProcessor(parquet_path= \"./data/2023-12-01--2023-12-31--flowprint.parquet\")"
   ]
  },
  {
   "cell_type": "code",
   "execution_count": 12,
   "metadata": {},
   "outputs": [
    {
     "name": "stdout",
     "output_type": "stream",
     "text": [
      "{'Video': 1.0, 'Download': 1.1581531240271092, 'Conferencing': 2.883952531456855}\n"
     ]
    }
   ],
   "source": [
    "data  : List[FlowRepresentation] = DataFrameExtractor.getData(data_frame_processors= [data_processor_1,data_processor_2,data_processor_3], use_balancer= True, start_with_invalid_points= False)"
   ]
  },
  {
   "cell_type": "code",
   "execution_count": 13,
   "metadata": {},
   "outputs": [
    {
     "data": {
      "text/plain": [
       "133306"
      ]
     },
     "execution_count": 13,
     "metadata": {},
     "output_type": "execute_result"
    }
   ],
   "source": [
    "len(data)"
   ]
  },
  {
   "cell_type": "code",
   "execution_count": 14,
   "metadata": {},
   "outputs": [],
   "source": [
    "X = FeatureExtractor.extractFeaturesFromFlowList(data)\n",
    "y = list(map(lambda x : x.class_type,data))"
   ]
  },
  {
   "cell_type": "code",
   "execution_count": 15,
   "metadata": {},
   "outputs": [],
   "source": [
    "data = list(map(lambda x : x.__dict__, data))"
   ]
  },
  {
   "cell_type": "code",
   "execution_count": 16,
   "metadata": {},
   "outputs": [
    {
     "data": {
      "text/plain": [
       "{'sparcity_u_0': 0,\n",
       " 'sparcity_u_1': 1,\n",
       " 'sparcity_u_2': 2,\n",
       " 'sparcity_d_0': 3,\n",
       " 'sparcity_d_1': 4,\n",
       " 'sparcity_d_2': 5,\n",
       " 'non_zero_mean_u_pl_0': 6,\n",
       " 'non_zero_mean_u_pl_1': 7,\n",
       " 'non_zero_mean_u_pl_2': 8,\n",
       " 'non_zero_mean_d_pl_0': 9,\n",
       " 'non_zero_mean_d_pl_1': 10,\n",
       " 'non_zero_mean_d_pl_2': 11,\n",
       " 'non_zero_var_u_pl_0': 12,\n",
       " 'non_zero_var_u_pl_1': 13,\n",
       " 'non_zero_var_u_pl_2': 14,\n",
       " 'non_zero_var_d_pl_0': 15,\n",
       " 'non_zero_var_d_pl_1': 16,\n",
       " 'non_zero_var_d_pl_2': 17,\n",
       " 'change_count_u_0': 18,\n",
       " 'change_count_u_1': 19,\n",
       " 'change_count_u_2': 20,\n",
       " 'change_count_d_0': 21,\n",
       " 'change_count_d_1': 22,\n",
       " 'change_count_d_2': 23,\n",
       " 'fraction_per_band_u_b_0': 24,\n",
       " 'fraction_per_band_u_b_1': 25,\n",
       " 'fraction_per_band_u_b_2': 26,\n",
       " 'fraction_per_band_d_b_0': 27,\n",
       " 'fraction_per_band_d_b_1': 28,\n",
       " 'fraction_per_band_d_b_2': 29,\n",
       " 'fraction_per_band_u_p_0': 30,\n",
       " 'fraction_per_band_u_p_1': 31,\n",
       " 'fraction_per_band_u_p_2': 32,\n",
       " 'fraction_per_band_d_p_0': 33,\n",
       " 'fraction_per_band_d_p_1': 34,\n",
       " 'fraction_per_band_d_p_2': 35}"
      ]
     },
     "execution_count": 16,
     "metadata": {},
     "output_type": "execute_result"
    }
   ],
   "source": [
    "FeatureExtractor.feature_to_index_map"
   ]
  },
  {
   "cell_type": "code",
   "execution_count": 17,
   "metadata": {},
   "outputs": [],
   "source": [
    "for i in range(len(data)):\n",
    "    data[i][\"change_count_d_2\"] = X[i][FeatureExtractor.feature_to_index_map[\"change_count_d_2\"]]\n",
    "    data[i][\"change_count_d_1\"] = X[i][FeatureExtractor.feature_to_index_map[\"change_count_d_1\"]]\n",
    "    data[i][\"sparcity_d_2\"] = X[i][FeatureExtractor.feature_to_index_map[\"sparcity_d_2\"]]\n",
    "    "
   ]
  },
  {
   "cell_type": "code",
   "execution_count": 18,
   "metadata": {},
   "outputs": [],
   "source": [
    "df = pd.DataFrame(data)\n",
    "#df = df[((df.class_type == \"Video\") | (df.class_type == \"Gaming Download\"))]"
   ]
  },
  {
   "cell_type": "code",
   "execution_count": 19,
   "metadata": {},
   "outputs": [
    {
     "data": {
      "text/plain": [
       "class_type\n",
       "Conferencing    47895\n",
       "Download        47685\n",
       "Video           37726\n",
       "Name: count, dtype: int64"
      ]
     },
     "execution_count": 19,
     "metadata": {},
     "output_type": "execute_result"
    }
   ],
   "source": [
    "df.class_type.value_counts()"
   ]
  },
  {
   "cell_type": "code",
   "execution_count": 20,
   "metadata": {},
   "outputs": [
    {
     "data": {
      "text/plain": [
       "count    133306.000000\n",
       "mean          0.630040\n",
       "std           0.442793\n",
       "min           0.000000\n",
       "25%           0.000000\n",
       "50%           0.900000\n",
       "75%           1.000000\n",
       "max           1.000000\n",
       "Name: sparcity_d_2, dtype: float64"
      ]
     },
     "execution_count": 20,
     "metadata": {},
     "output_type": "execute_result"
    }
   ],
   "source": [
    "df.sparcity_d_2.describe()"
   ]
  },
  {
   "cell_type": "code",
   "execution_count": 21,
   "metadata": {},
   "outputs": [
    {
     "data": {
      "text/plain": [
       "count    47685.000000\n",
       "mean         0.081127\n",
       "std          0.225433\n",
       "min          0.000000\n",
       "25%          0.000000\n",
       "50%          0.000000\n",
       "75%          0.000000\n",
       "max          1.000000\n",
       "Name: sparcity_d_2, dtype: float64"
      ]
     },
     "execution_count": 21,
     "metadata": {},
     "output_type": "execute_result"
    }
   ],
   "source": [
    "df[df.class_type == \"Download\"].sparcity_d_2.describe() "
   ]
  },
  {
   "cell_type": "code",
   "execution_count": 22,
   "metadata": {},
   "outputs": [
    {
     "data": {
      "text/plain": [
       "count    37726.000000\n",
       "mean         0.859628\n",
       "std          0.145561\n",
       "min          0.000000\n",
       "25%          0.800000\n",
       "50%          0.900000\n",
       "75%          0.966667\n",
       "max          1.000000\n",
       "Name: sparcity_d_2, dtype: float64"
      ]
     },
     "execution_count": 22,
     "metadata": {},
     "output_type": "execute_result"
    }
   ],
   "source": [
    "df[df.class_type == \"Video\"].sparcity_d_2.describe() "
   ]
  },
  {
   "cell_type": "code",
   "execution_count": 23,
   "metadata": {},
   "outputs": [],
   "source": [
    "np.set_printoptions(suppress=True)"
   ]
  },
  {
   "cell_type": "code",
   "execution_count": null,
   "metadata": {},
   "outputs": [],
   "source": []
  },
  {
   "cell_type": "code",
   "execution_count": 24,
   "metadata": {},
   "outputs": [
    {
     "name": "stdout",
     "output_type": "stream",
     "text": [
      "[[0. 0. 0. 0. 0. 0. 0. 0. 0. 0. 0. 0. 0. 0. 0. 0. 0. 0. 0. 0. 0. 0. 0. 0.\n",
      "  0. 0. 0. 0. 0. 0.]\n",
      " [0. 0. 0. 0. 0. 0. 0. 0. 0. 0. 0. 0. 0. 0. 0. 0. 0. 0. 0. 0. 0. 0. 0. 0.\n",
      "  0. 0. 0. 0. 0. 0.]\n",
      " [0. 0. 0. 0. 0. 0. 0. 0. 0. 0. 0. 0. 0. 0. 0. 0. 0. 0. 0. 0. 0. 0. 0. 0.\n",
      "  0. 0. 0. 0. 0. 0.]]\n",
      "*******************\n",
      "[[    0.     0.     0.     0.     0.     0.     0.     0.     0.     0.\n",
      "      0.     0.     0.     0.     0.     0.     0.     0.     0.     0.\n",
      "      0.     0.     0.     0.     0.     0.     0.     0.     0.     0.]\n",
      " [    0.     0.     0.     0.     0.     0.     0.     0.     0.     0.\n",
      "      0.     0.     0.     0.     0.     0.     0.     0.     0.     0.\n",
      "      0.     0.     0.     0.     0.     0.     0.     0.     0.     0.]\n",
      " [    0. 69888.     0.     0.  1456. 26208.  8736. 27664.     0.  8736.\n",
      "   1456. 24752. 14560.     0.     0.  8736. 17472.     0.     0.     0.\n",
      "      0.     0.     0.     0.     0.  4368.  4368. 20384. 11648.     0.]]\n",
      "******************\n",
      "Apple iOSAppStore 134393.73333333334 Apple iOSAppStore\n"
     ]
    }
   ],
   "source": [
    "row = df[(df.class_type == \"Download\")].reindex().sample(1).iloc[0]\n",
    "print(row.up_bytes)\n",
    "print(\"*******************\")\n",
    "print(row.down_bytes)\n",
    "print(\"******************\")\n",
    "print(row.provider_type, row.down_bps, row.sni)"
   ]
  },
  {
   "cell_type": "code",
   "execution_count": 25,
   "metadata": {},
   "outputs": [
    {
     "name": "stdout",
     "output_type": "stream",
     "text": [
      "[[   0.    0.    0.    0.    0.    0.    0.    0.    0.    0.    0.    0.\n",
      "     0.    0.    0.    0.    0.    0.    0.    0.    0.    0.    0.    0.\n",
      "     0.    0.    0.    0.    0.    0.]\n",
      " [   0.    0.    0.    0. 1005.    0.    0.    0.    0.    0.    0.    0.\n",
      "     0.    0.    0.    0.    0.    0.    0.    0.    0.    0.    0. 2005.\n",
      "     0.    0.    0.    0.    0.    0.]\n",
      " [   0.    0.    0.    0.    0.    0.    0.    0.    0.    0.    0.    0.\n",
      "     0.    0.    0.    0.    0.    0.    0.    0.    0.    0.    0.    0.\n",
      "     0.    0.    0.    0.    0.    0.]]\n",
      "*******************\n",
      "[[     0.      0.      0.      0.      0.      0.      0.      0.      0.\n",
      "       0.      0.      0.      0.      0.      0.      0.      0.      0.\n",
      "       0.      0.      0.      0.      0.      0.      0.      0.      0.\n",
      "       0.      0.      0.]\n",
      " [     0.      0.      0.      0.    494.      0.      0.      0.      0.\n",
      "       0.      0.      0.      0.      0.      0.      0.      0.      0.\n",
      "       0.      0.      0.      0.   1304.   2160.      0.      0.      0.\n",
      "       0.      0.      0.]\n",
      " [     0.      0.      0.      0. 746060.      0.      0.      0.      0.\n",
      "       0.      0.      0.      0.      0.      0.      0.      0.      0.\n",
      "       0.      0.      0.      0. 389820. 496400.      0.      0.      0.\n",
      "       0.      0.      0.]]\n",
      "******************\n",
      "Netflix 269558.5108225108 Netflix\n"
     ]
    }
   ],
   "source": [
    "row = df[(df.class_type == \"Video\")].reindex().sample(1).iloc[0]\n",
    "print(row.up_bytes)\n",
    "print(\"*******************\")\n",
    "print(row.down_bytes)\n",
    "print(\"******************\")\n",
    "print(row.provider_type, row.down_bps, row.sni)"
   ]
  },
  {
   "cell_type": "code",
   "execution_count": 26,
   "metadata": {},
   "outputs": [
    {
     "data": {
      "text/plain": [
       "sni\n",
       "Apple iOSAppStore    47685\n",
       "Name: count, dtype: int64"
      ]
     },
     "execution_count": 26,
     "metadata": {},
     "output_type": "execute_result"
    }
   ],
   "source": [
    "df[(df.class_type == \"Download\")].sni.value_counts()"
   ]
  },
  {
   "cell_type": "code",
   "execution_count": 27,
   "metadata": {},
   "outputs": [
    {
     "data": {
      "text/plain": [
       "sni\n",
       "Apple iOSAppStore    2080\n",
       "Name: count, dtype: int64"
      ]
     },
     "execution_count": 27,
     "metadata": {},
     "output_type": "execute_result"
    }
   ],
   "source": [
    "df[(df.class_type == \"Download\") & (df.sparcity_d_2 > .8)].sni.value_counts()"
   ]
  },
  {
   "cell_type": "code",
   "execution_count": 28,
   "metadata": {},
   "outputs": [
    {
     "name": "stdout",
     "output_type": "stream",
     "text": [
      "[[   245.      0.    163.      0.     26.    189.     79.    260.     26.\n",
      "       0.      0.      0.    217.      0.      0.    163.      0.     26.\n",
      "     189.    122.    245.      0.    189.    270.     27.     26.      0.\n",
      "       0.      0.    329.]\n",
      " [   432.      0.    587.      0.      0.      0.      0.    792.      0.\n",
      "       0.      0.      0.    375.      0.      0.    871.      0.    718.\n",
      "     785.    172.      0.      0.    629.    164.      0.    850.      0.\n",
      "       0.      0.      0.]\n",
      " [462492. 392500. 551246. 487500. 701186. 902496. 682500. 514989. 786250.\n",
      "  748750. 404995. 597500. 659996. 738750. 902500. 651246. 700000. 571233.\n",
      "  711239.  77500. 312496. 582500. 652496. 547489. 305000. 303750.      0.\n",
      "       0.      0.      0.]]\n"
     ]
    }
   ],
   "source": [
    "row = df[(df.class_type == \"Video\") & (df.sparcity_d_2 < .3)].reindex().iloc[5]\n",
    "print(row.down_bytes)\n"
   ]
  },
  {
   "cell_type": "code",
   "execution_count": 29,
   "metadata": {},
   "outputs": [
    {
     "data": {
      "text/plain": [
       "(array([  210.,    31.,    34.,    28.,    25.,    38.,    24.,    54.,\n",
       "           72.,    47.,    65.,    88.,   101.,    98.,   144.,   158.,\n",
       "          210.,   271.,   364.,   482.,   648.,   893.,  1214.,  1785.,\n",
       "         2537.,  2896.,  3537.,  4567.,  6286., 10819.]),\n",
       " array([0.        , 0.03333333, 0.06666667, 0.1       , 0.13333333,\n",
       "        0.16666667, 0.2       , 0.23333333, 0.26666667, 0.3       ,\n",
       "        0.33333333, 0.36666667, 0.4       , 0.43333333, 0.46666667,\n",
       "        0.5       , 0.53333333, 0.56666667, 0.6       , 0.63333333,\n",
       "        0.66666667, 0.7       , 0.73333333, 0.76666667, 0.8       ,\n",
       "        0.83333333, 0.86666667, 0.9       , 0.93333333, 0.96666667,\n",
       "        1.        ]),\n",
       " <BarContainer object of 30 artists>)"
      ]
     },
     "execution_count": 29,
     "metadata": {},
     "output_type": "execute_result"
    },
    {
     "data": {
      "image/png": "[encoded data removed]",
      "text/plain": [
       "<Figure size 640x480 with 1 Axes>"
      ]
     },
     "metadata": {},
     "output_type": "display_data"
    }
   ],
   "source": [
    "video_df = df[(df.class_type == \"Video\")]\n",
    "video_df_sparcity_d_2 = video_df.sparcity_d_2.values\n",
    "plt.hist(video_df_sparcity_d_2,bins= 30)"
   ]
  },
  {
   "cell_type": "code",
   "execution_count": 32,
   "metadata": {},
   "outputs": [
    {
     "data": {
      "text/plain": [
       "(array([37602.,  2595.,   651.,   522.,   380.,   321.,   285.,   275.,\n",
       "          246.,   252.,   234.,   195.,   205.,   153.,   159.,   178.,\n",
       "          128.,   145.,   142.,   122.,   155.,   150.,   169.,   169.,\n",
       "          172.,   128.,   151.,   242.,   580.,   979.]),\n",
       " array([0.        , 0.03333333, 0.06666667, 0.1       , 0.13333333,\n",
       "        0.16666667, 0.2       , 0.23333333, 0.26666667, 0.3       ,\n",
       "        0.33333333, 0.36666667, 0.4       , 0.43333333, 0.46666667,\n",
       "        0.5       , 0.53333333, 0.56666667, 0.6       , 0.63333333,\n",
       "        0.66666667, 0.7       , 0.73333333, 0.76666667, 0.8       ,\n",
       "        0.83333333, 0.86666667, 0.9       , 0.93333333, 0.96666667,\n",
       "        1.        ]),\n",
       " <BarContainer object of 30 artists>)"
      ]
     },
     "execution_count": 32,
     "metadata": {},
     "output_type": "execute_result"
    },
    {
     "data": {
      "image/png": "[encoded data removed]",
      "text/plain": [
       "<Figure size 640x480 with 1 Axes>"
      ]
     },
     "metadata": {},
     "output_type": "display_data"
    }
   ],
   "source": [
    "gaming_df = df[(df.class_type == \"Download\")]\n",
    "gaming_df_sparcity_d_2 = gaming_df.sparcity_d_2.values\n",
    "plt.hist(gaming_df_sparcity_d_2, bins= 30)"
   ]
  },
  {
   "cell_type": "code",
   "execution_count": null,
   "metadata": {},
   "outputs": [],
   "source": []
  },
  {
   "cell_type": "code",
   "execution_count": 32,
   "metadata": {},
   "outputs": [
    {
     "data": {
      "text/plain": [
       "-0.4095730050621216"
      ]
     },
     "execution_count": 32,
     "metadata": {},
     "output_type": "execute_result"
    }
   ],
   "source": [
    "df.sparcity_d_2.corr(df.down_bps)"
   ]
  },
  {
   "cell_type": "code",
   "execution_count": 33,
   "metadata": {},
   "outputs": [
    {
     "data": {
      "text/plain": [
       "<matplotlib.collections.PathCollection at 0x20311bc33d0>"
      ]
     },
     "execution_count": 33,
     "metadata": {},
     "output_type": "execute_result"
    },
    {
     "data": {
      "image/png": "[encoded data removed]",
      "text/plain": [
       "<Figure size 640x480 with 1 Axes>"
      ]
     },
     "metadata": {},
     "output_type": "display_data"
    }
   ],
   "source": [
    "plt.scatter(gaming_df.sparcity_d_2, gaming_df.down_bps)"
   ]
  },
  {
   "cell_type": "code",
   "execution_count": 42,
   "metadata": {},
   "outputs": [
    {
     "data": {
      "text/plain": [
       "count    1.390000e+04\n",
       "mean     1.842828e+06\n",
       "std      8.603366e+06\n",
       "min      7.726829e+01\n",
       "25%      1.739092e+04\n",
       "50%      5.951160e+04\n",
       "75%      4.387403e+05\n",
       "max      2.466616e+08\n",
       "Name: down_bps, dtype: float64"
      ]
     },
     "execution_count": 42,
     "metadata": {},
     "output_type": "execute_result"
    }
   ],
   "source": [
    "gaming_df[(gaming_df.sparcity_d_2 > .8)].down_bps.describe()"
   ]
  },
  {
   "cell_type": "code",
   "execution_count": 43,
   "metadata": {},
   "outputs": [
    {
     "data": {
      "text/plain": [
       "count    136923.000000\n",
       "mean          0.883525\n",
       "std           0.133372\n",
       "min           0.000000\n",
       "25%           0.833333\n",
       "50%           0.933333\n",
       "75%           0.966667\n",
       "max           1.000000\n",
       "Name: sparcity_d_2, dtype: float64"
      ]
     },
     "execution_count": 43,
     "metadata": {},
     "output_type": "execute_result"
    }
   ],
   "source": [
    "video_df.sparcity_d_2.describe()"
   ]
  },
  {
   "cell_type": "code",
   "execution_count": null,
   "metadata": {},
   "outputs": [],
   "source": []
  },
  {
   "cell_type": "code",
   "execution_count": null,
   "metadata": {},
   "outputs": [],
   "source": []
  },
  {
   "cell_type": "code",
   "execution_count": null,
   "metadata": {},
   "outputs": [],
   "source": [
    "# chug out gaming download and video with zero download bytes ?\n",
    "# Does gaming does download in band 1 as well ?"
   ]
  },
  {
   "cell_type": "code",
   "execution_count": 71,
   "metadata": {},
   "outputs": [],
   "source": [
    "kmeans = KMeans(n_clusters=3, random_state=42)"
   ]
  },
  {
   "cell_type": "code",
   "execution_count": 63,
   "metadata": {},
   "outputs": [],
   "source": [
    "kmeans.fit(np.array(df.features.values.tolist()))\n",
    "clusters = kmeans.labels_"
   ]
  },
  {
   "cell_type": "code",
   "execution_count": null,
   "metadata": {},
   "outputs": [],
   "source": [
    "print(\"Confusion Matrix:\")\n",
    "print(confusion_matrix(, clusters))"
   ]
  }
 ],
 "metadata": {
  "kernelspec": {
   "display_name": "Python 3",
   "language": "python",
   "name": "python3"
  },
  "language_info": {
   "codemirror_mode": {
    "name": "ipython",
    "version": 3
   },
   "file_extension": ".py",
   "mimetype": "text/x-python",
   "name": "python",
   "nbconvert_exporter": "python",
   "pygments_lexer": "ipython3",
   "version": "3.11.7"
  }
 },
 "nbformat": 4,
 "nbformat_minor": 2
}
